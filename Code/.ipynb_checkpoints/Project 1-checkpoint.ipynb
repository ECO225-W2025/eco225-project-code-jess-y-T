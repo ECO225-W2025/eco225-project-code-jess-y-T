{
 "cells": [
  {
   "cell_type": "markdown",
   "id": "b83ff9d1-943a-440a-8d4d-3417497d6401",
   "metadata": {},
   "source": [
    "# The Geography of Startup Success: The Effect of Proximity To Elite Universities On Startups' Growth and Investment. \n",
    "### by Jessica Dowuona-Owoo"
   ]
  },
  {
   "cell_type": "markdown",
   "id": "6e0d41cf-6c20-4651-b2d1-35ca0f8decc6",
   "metadata": {},
   "source": [
    "### Introduction\n",
    "\n",
    "It is almost intuitive to believe there is some form of significance to startups of being located near a university. The location of a startup is one of the most important endogenous factors that businesses consider, and this paper seeks to determine the relationship between proximity to top-tier universities and start-up investment success.\n",
    "\n",
    "Many studies have been done focusing on a particular relationship between universities and startups (or innovation), for example, determining the role universities specialized in technical fields, say engineering and applied science (Bonaccorsi et al., 2013), have on startup creation or start-up operations in general (Fritsch & Aamoucke, 2017). Other studies show positive spillovers between research universities and innovation by providing research and development (R&D) initiatives (Anselin et al., 1997). Additionally, some papers show an opposing correlation to fields of study that may have been seen to be the more attractive (Audretsch et al., 2005). Further studies also look at the role of access to knowledge bases in determining the type of startups that are created in the area (Baptista et al., 2010).\n",
    "\n",
    "To research this question, we will use a startup investments data set, which contains information on start-ups from 1980 to 2014, and United States (US) university data, which includes ranking, population, founding year and other information about universities. The focus of this paper is to look at the US. Thus, we will consider universities and startups in the US. With this data we will explore the relationship between proximity and investment success. With the insights gained from this paper, startups may be able to make more informed decisions in the early stages of their life span."
   ]
  },
  {
   "cell_type": "code",
   "execution_count": 124,
   "id": "3741ed81-933c-4776-b764-f587c43d5ef5",
   "metadata": {},
   "outputs": [
    {
     "name": "stdout",
     "output_type": "stream",
     "text": [
      "Requirement already satisfied: geopy in /opt/anaconda3/lib/python3.12/site-packages (2.4.1)\n",
      "Requirement already satisfied: geographiclib<3,>=1.52 in /opt/anaconda3/lib/python3.12/site-packages (from geopy) (2.0)\n",
      "Note: you may need to restart the kernel to use updated packages.\n"
     ]
    }
   ],
   "source": [
    "pip install geopy"
   ]
  },
  {
   "cell_type": "code",
   "execution_count": 125,
   "id": "642328ed-b621-49e2-98e5-45dd8af7988e",
   "metadata": {},
   "outputs": [],
   "source": [
    "import matplotlib\n",
    "import matplotlib.colors as mplc\n",
    "import matplotlib.patches as patches\n",
    "import pandas as pd\n",
    "import numpy as np\n",
    "import matplotlib.pyplot as plt\n",
    "import seaborn as sns\n",
    "from geopy.distance import geodesic\n",
    "import statsmodels.api as sm\n",
    "import matplotlib.colors as mcolors\n",
    "from statsmodels.iolib.summary2 import summary_col\n",
    "from stargazer.stargazer import Stargazer\n",
    "from IPython.core.display import HTML\n",
    "\n",
    "import geopandas as gpd\n",
    "import folium\n",
    "from folium.plugins import HeatMap\n",
    "from shapely.geometry import Point\n",
    "from geopy.distance import great_circle\n"
   ]
  },
  {
   "cell_type": "code",
   "execution_count": 126,
   "id": "ede5ba95-4c1c-4d84-8005-81ef45af3a2f",
   "metadata": {},
   "outputs": [],
   "source": [
    "#Data from the Startups data set\n",
    "objects = pd.read_csv('/Users/jessyterlisner/Desktop/ECO225Project/Data/objects.csv', parse_dates=['founded_at', 'first_investment_at', 'first_funding_at'], low_memory=False)\n",
    "investments = pd.read_csv('/Users/jessyterlisner/Desktop/ECO225Project/Data/investments.csv')\n",
    "office = pd.read_csv('/Users/jessyterlisner/Desktop/ECO225Project/Data/offices.csv')\n",
    "f_rounds = pd.read_csv('/Users/jessyterlisner/Desktop/ECO225Project/Data/funding_rounds.csv', parse_dates=['funded_at'])\n",
    "ipos = pd.read_csv('/Users/jessyterlisner/Desktop/ECO225Project/Data/ipos.csv', parse_dates=['public_at'])\n",
    "\n",
    "# renaming values\n",
    "objects.rename(columns={'id':'funded_object_id'}, inplace=True)\n",
    "f_rounds.rename(columns={'object_id':'funded_object_id'}, inplace=True)\n",
    "office.rename(columns={'object_id':'funded_object_id'}, inplace=True)\n",
    "ipos.rename(columns={'object_id':'funded_object_id'}, inplace=True)\n",
    "\n",
    "\n",
    "#dropping columns as they become duplicates in the main source file\n",
    "office = office.drop(columns= ['created_at', 'updated_at', 'country_code', 'state_code', 'region', 'city'], inplace=False)\n",
    "obj = objects.drop(columns= ['created_at', 'updated_at', 'tag_list', 'logo_height', 'logo_width', 'logo_url', 'created_by', \n",
    "                             'twitter_username', 'homepage_url'], inplace= False)\n",
    "inv = investments.drop(columns= ['created_at', 'updated_at'], inplace=False)\n",
    "f_rounds = f_rounds.drop(columns = ['source_description', 'created_at', 'updated_at', 'created_by', 'pre_money_valuation', \n",
    "                                    'raised_amount','post_money_valuation', 'post_money_currency_code', \n",
    "                                    'pre_money_valuation', 'pre_money_currency_code'], inplace=False)\n"
   ]
  },
  {
   "cell_type": "code",
   "execution_count": 127,
   "id": "37ac92a0-3787-4512-9b6b-6af52d463d64",
   "metadata": {},
   "outputs": [],
   "source": [
    "#Merge source files\n",
    "source = pd.merge(obj, inv, on= 'funded_object_id')\n",
    "source_funds = pd.merge(source, f_rounds, on= 'funded_object_id')"
   ]
  },
  {
   "cell_type": "code",
   "execution_count": 128,
   "id": "13a5ad19-f824-4d88-84a4-4f0d4277ecd2",
   "metadata": {},
   "outputs": [
    {
     "data": {
      "text/plain": [
       "Index(['funded_object_id', 'entity_type', 'entity_id', 'parent_id', 'name',\n",
       "       'normalized_name', 'permalink', 'category_code', 'status', 'founded_at',\n",
       "       'closed_at', 'domain', 'short_description', 'description_x', 'overview',\n",
       "       'country_code', 'state_code', 'city', 'region', 'first_investment_at',\n",
       "       'last_investment_at', 'investment_rounds', 'invested_companies',\n",
       "       'first_funding_at', 'last_funding_at', 'funding_rounds',\n",
       "       'funding_total_usd', 'first_milestone_at', 'last_milestone_at',\n",
       "       'milestones', 'relationships', 'id_x', 'funding_round_id_x',\n",
       "       'investor_object_id', 'id_y', 'funding_round_id_y', 'funded_at',\n",
       "       'funding_round_type', 'funding_round_code', 'raised_amount_usd',\n",
       "       'raised_currency_code', 'pre_money_valuation_usd',\n",
       "       'post_money_valuation_usd', 'participants', 'is_first_round',\n",
       "       'is_last_round', 'source_url', 'id', 'office_id', 'description_y',\n",
       "       'address1', 'address2', 'zip_code', 'latitude', 'longitude'],\n",
       "      dtype='object')"
      ]
     },
     "execution_count": 128,
     "metadata": {},
     "output_type": "execute_result"
    }
   ],
   "source": [
    "#Choosing only USA data\n",
    "source_usa = source_funds[source_funds[\"country_code\"] == \"USA\"]\n",
    "\n",
    "#merge offices and source usa to gain location data \n",
    "main = pd.merge(source_usa, office, on= 'funded_object_id')\n",
    "main = main.drop_duplicates(subset=['funded_object_id']) # reduce duplication and keep only one office per startup.\n",
    "main = main.dropna(subset = ['latitude' , 'longitude'])\n",
    "\n",
    "main['country_code'].value_counts()\n",
    "main.columns"
   ]
  },
  {
   "cell_type": "code",
   "execution_count": 129,
   "id": "1196aff1-707e-44e6-a23f-9f8a2c14c0f9",
   "metadata": {},
   "outputs": [
    {
     "data": {
      "text/plain": [
       "Index(['funded_object_id', 'entity_type', 'entity_id', 'parent_id', 'name',\n",
       "       'normalized_name', 'permalink', 'category_code', 'status', 'founded_at',\n",
       "       'closed_at', 'domain', 'short_description', 'description_x', 'overview',\n",
       "       'country_code', 'state_code', 'city', 'region', 'first_investment_at',\n",
       "       'last_investment_at', 'investment_rounds', 'invested_companies',\n",
       "       'first_funding_at', 'last_funding_at', 'funding_rounds',\n",
       "       'funding_total_usd', 'first_milestone_at', 'last_milestone_at',\n",
       "       'milestones', 'relationships', 'id_x', 'funding_round_id_x',\n",
       "       'investor_object_id', 'id_y', 'funding_round_id_y', 'funded_at',\n",
       "       'funding_round_type', 'funding_round_code', 'raised_amount_usd',\n",
       "       'raised_currency_code', 'pre_money_valuation_usd',\n",
       "       'post_money_valuation_usd', 'participants', 'is_first_round',\n",
       "       'is_last_round', 'source_url', 'id', 'office_id', 'description_y',\n",
       "       'address1', 'address2', 'zip_code', 'latitude', 'longitude'],\n",
       "      dtype='object')"
      ]
     },
     "execution_count": 129,
     "metadata": {},
     "output_type": "execute_result"
    }
   ],
   "source": [
    "# Drop duplicate columns\n",
    "main = main.loc[:, ~main.columns.duplicated()]\n",
    "main.columns"
   ]
  },
  {
   "cell_type": "code",
   "execution_count": 130,
   "id": "88598842-9ca8-4066-9548-a31e39cfc53e",
   "metadata": {},
   "outputs": [
    {
     "data": {
      "text/plain": [
       "Index(['funded_object_id', 'entity_type', 'entity_id', 'parent_id', 'name',\n",
       "       'normalized_name', 'permalink', 'category_code', 'status', 'founded_at',\n",
       "       'closed_at', 'domain', 'short_description', 'description_x', 'overview',\n",
       "       'country_code', 'state_code', 'city', 'region', 'first_investment_at',\n",
       "       'last_investment_at', 'investment_rounds', 'invested_companies',\n",
       "       'first_funding_at', 'last_funding_at', 'funding_rounds',\n",
       "       'funding_total_usd', 'first_milestone_at', 'last_milestone_at',\n",
       "       'milestones', 'relationships', 'id_x', 'funding_round_id_x',\n",
       "       'investor_object_id', 'id_y', 'funding_round_id_y', 'funded_at',\n",
       "       'funding_round_type', 'funding_round_code', 'raised_amount_usd',\n",
       "       'raised_currency_code_main', 'pre_money_valuation_usd',\n",
       "       'post_money_valuation_usd', 'participants', 'is_first_round',\n",
       "       'is_last_round', 'source_url_main', 'id_main', 'office_id',\n",
       "       'description_y', 'address1', 'address2', 'zip_code', 'latitude',\n",
       "       'longitude', 'id_ipos', 'ipo_id', 'valuation_amount',\n",
       "       'valuation_currency_code', 'raised_amount', 'raised_currency_code_ipos',\n",
       "       'public_at', 'stock_symbol', 'source_url_ipos', 'source_description',\n",
       "       'created_at', 'updated_at'],\n",
       "      dtype='object')"
      ]
     },
     "execution_count": 130,
     "metadata": {},
     "output_type": "execute_result"
    }
   ],
   "source": [
    "main = pd.merge(main, ipos, on='funded_object_id', suffixes=('_main', '_ipos'))\n",
    "main.columns"
   ]
  },
  {
   "cell_type": "code",
   "execution_count": 131,
   "id": "c59e2d6a-9327-4b5f-bb7a-abcb6d79b9cf",
   "metadata": {},
   "outputs": [
    {
     "data": {
      "text/html": [
       "<div>\n",
       "<style scoped>\n",
       "    .dataframe tbody tr th:only-of-type {\n",
       "        vertical-align: middle;\n",
       "    }\n",
       "\n",
       "    .dataframe tbody tr th {\n",
       "        vertical-align: top;\n",
       "    }\n",
       "\n",
       "    .dataframe thead th {\n",
       "        text-align: right;\n",
       "    }\n",
       "</style>\n",
       "<table border=\"1\" class=\"dataframe\">\n",
       "  <thead>\n",
       "    <tr style=\"text-align: right;\">\n",
       "      <th></th>\n",
       "      <th>university</th>\n",
       "      <th>country</th>\n",
       "      <th>domain</th>\n",
       "      <th>city</th>\n",
       "      <th>ranking</th>\n",
       "      <th>address</th>\n",
       "      <th>foundation year</th>\n",
       "      <th>description</th>\n",
       "      <th>total students</th>\n",
       "      <th>undergraduate students</th>\n",
       "      <th>graduate students</th>\n",
       "      <th>international students</th>\n",
       "      <th>latitude</th>\n",
       "      <th>longitude</th>\n",
       "      <th>logo link</th>\n",
       "    </tr>\n",
       "  </thead>\n",
       "  <tbody>\n",
       "    <tr>\n",
       "      <th>0</th>\n",
       "      <td>Texas A&amp;M University, College Station</td>\n",
       "      <td>United States</td>\n",
       "      <td>tamu.edu</td>\n",
       "      <td>College Station</td>\n",
       "      <td>163</td>\n",
       "      <td>George Bush Drive</td>\n",
       "      <td>1876.0</td>\n",
       "      <td>Scope. The flagship of the 18-member Texas A&amp;M...</td>\n",
       "      <td>73267.0</td>\n",
       "      <td>56527.0</td>\n",
       "      <td>16740.0</td>\n",
       "      <td>5861.0</td>\n",
       "      <td>30.627777</td>\n",
       "      <td>-96.334170</td>\n",
       "      <td>https://www.shanghairanking.cn/_uni/logo/df034...</td>\n",
       "    </tr>\n",
       "    <tr>\n",
       "      <th>1</th>\n",
       "      <td>Ohio State University</td>\n",
       "      <td>United States</td>\n",
       "      <td>osu.edu</td>\n",
       "      <td>Columbus</td>\n",
       "      <td>68</td>\n",
       "      <td>Student Academic Services Building, 281 W. Lan...</td>\n",
       "      <td>1870.0</td>\n",
       "      <td>Since 1870, The Ohio State University has been...</td>\n",
       "      <td>61492.0</td>\n",
       "      <td>50293.0</td>\n",
       "      <td>11199.0</td>\n",
       "      <td>7173.0</td>\n",
       "      <td>39.961113</td>\n",
       "      <td>-82.998886</td>\n",
       "      <td>https://www.shanghairanking.cn/_uni/logo/1ccdf...</td>\n",
       "    </tr>\n",
       "    <tr>\n",
       "      <th>2</th>\n",
       "      <td>University of Texas at Arlington</td>\n",
       "      <td>United States</td>\n",
       "      <td>uta.edu</td>\n",
       "      <td>Arlington</td>\n",
       "      <td>707</td>\n",
       "      <td>NaN</td>\n",
       "      <td>NaN</td>\n",
       "      <td>NaN</td>\n",
       "      <td>60035.0</td>\n",
       "      <td>42763.0</td>\n",
       "      <td>17272.0</td>\n",
       "      <td>9005.0</td>\n",
       "      <td>32.735554</td>\n",
       "      <td>-97.107780</td>\n",
       "      <td>https://www.shanghairanking.cn/_uni/logo/7c212...</td>\n",
       "    </tr>\n",
       "    <tr>\n",
       "      <th>3</th>\n",
       "      <td>New York University</td>\n",
       "      <td>United States</td>\n",
       "      <td>nyu.edu</td>\n",
       "      <td>New York</td>\n",
       "      <td>27</td>\n",
       "      <td>New York University, 70 Washington Square Sout...</td>\n",
       "      <td>1831.0</td>\n",
       "      <td>NaN</td>\n",
       "      <td>58091.0</td>\n",
       "      <td>29902.0</td>\n",
       "      <td>28189.0</td>\n",
       "      <td>19170.0</td>\n",
       "      <td>40.714170</td>\n",
       "      <td>-74.006386</td>\n",
       "      <td>https://www.shanghairanking.cn/_uni/logo/d254e...</td>\n",
       "    </tr>\n",
       "    <tr>\n",
       "      <th>4</th>\n",
       "      <td>University of Central Florida</td>\n",
       "      <td>United States</td>\n",
       "      <td>ucf.edu</td>\n",
       "      <td>Florida</td>\n",
       "      <td>479</td>\n",
       "      <td>4000 Central Florida Blvd.</td>\n",
       "      <td>1963.0</td>\n",
       "      <td>The University of Central Florida (UCF) is a p...</td>\n",
       "      <td>56740.0</td>\n",
       "      <td>51717.0</td>\n",
       "      <td>5023.0</td>\n",
       "      <td>2476.0</td>\n",
       "      <td>18.365278</td>\n",
       "      <td>-66.567500</td>\n",
       "      <td>https://www.shanghairanking.cn/_uni/logo/813d8...</td>\n",
       "    </tr>\n",
       "  </tbody>\n",
       "</table>\n",
       "</div>"
      ],
      "text/plain": [
       "                              university        country    domain  \\\n",
       "0  Texas A&M University, College Station  United States  tamu.edu   \n",
       "1                  Ohio State University  United States   osu.edu   \n",
       "2       University of Texas at Arlington  United States   uta.edu   \n",
       "3                    New York University  United States   nyu.edu   \n",
       "4          University of Central Florida  United States   ucf.edu   \n",
       "\n",
       "              city  ranking  \\\n",
       "0  College Station      163   \n",
       "1         Columbus       68   \n",
       "2        Arlington      707   \n",
       "3         New York       27   \n",
       "4          Florida      479   \n",
       "\n",
       "                                             address  foundation year  \\\n",
       "0                                  George Bush Drive           1876.0   \n",
       "1  Student Academic Services Building, 281 W. Lan...           1870.0   \n",
       "2                                                NaN              NaN   \n",
       "3  New York University, 70 Washington Square Sout...           1831.0   \n",
       "4                         4000 Central Florida Blvd.           1963.0   \n",
       "\n",
       "                                         description  total students  \\\n",
       "0  Scope. The flagship of the 18-member Texas A&M...         73267.0   \n",
       "1  Since 1870, The Ohio State University has been...         61492.0   \n",
       "2                                                NaN         60035.0   \n",
       "3                                                NaN         58091.0   \n",
       "4  The University of Central Florida (UCF) is a p...         56740.0   \n",
       "\n",
       "   undergraduate students  graduate students  international students  \\\n",
       "0                 56527.0            16740.0                  5861.0   \n",
       "1                 50293.0            11199.0                  7173.0   \n",
       "2                 42763.0            17272.0                  9005.0   \n",
       "3                 29902.0            28189.0                 19170.0   \n",
       "4                 51717.0             5023.0                  2476.0   \n",
       "\n",
       "    latitude  longitude                                          logo link  \n",
       "0  30.627777 -96.334170  https://www.shanghairanking.cn/_uni/logo/df034...  \n",
       "1  39.961113 -82.998886  https://www.shanghairanking.cn/_uni/logo/1ccdf...  \n",
       "2  32.735554 -97.107780  https://www.shanghairanking.cn/_uni/logo/7c212...  \n",
       "3  40.714170 -74.006386  https://www.shanghairanking.cn/_uni/logo/d254e...  \n",
       "4  18.365278 -66.567500  https://www.shanghairanking.cn/_uni/logo/813d8...  "
      ]
     },
     "execution_count": 131,
     "metadata": {},
     "output_type": "execute_result"
    }
   ],
   "source": [
    "#Data from the additional data set \n",
    "uni = pd.read_csv('/Users/jessyterlisner/Desktop/ECO225Project/Data/Universities, the United States.csv')\n",
    "uni = uni.dropna(subset = ['latitude' , 'longitude'])\n",
    "uni.head()"
   ]
  },
  {
   "cell_type": "markdown",
   "id": "a4bf6087-bb42-4587-9d1b-5c1fdfb67ca9",
   "metadata": {},
   "source": [
    "### Variable decisions\n",
    "The chosen Y variable is investment success- expressed in values such as the average funding rounds, the value of investment raised, and the number of milestones achieved. With our current data set, these are convenient and easy to calculate-investment success measures. They are also relatively easy to interpret for example, higher average funding rounds can be indicative of increased investor-investee interactions.\n",
    "\n",
    "For the x values, we will consider the number of startups per state, the proximity to elite universities, entity type (company, person…), the category of the startup, the city (industry hot-spot), and the number of high-ranking universities in the city. The number of startups per state tells us the density of startups between states, and studying this x variable may help us discover whether or not the concentration of startups is helpful or detrimental to the average funds that each startup receives. The city (industry hot-spot) variable helps us analyze and account for skewed data for example California as a technology hot spot may suggest companies that are in similar or related fields that are located there may benefit from better-skilled workers, and possibly better funding. This is closely related to the next x variable; the category of the startup. There may be disparities between categories of entities and this may influence investment success. The number of high-ranking universities in the city is a necessary variable as it alerts us as to whether or not we can directly answer the research question for those US cities as the research question is focused on top-tier universities."
   ]
  },
  {
   "cell_type": "code",
   "execution_count": 148,
   "id": "f89c582a-13f9-4b3c-bfbb-318c5a424d75",
   "metadata": {},
   "outputs": [
    {
     "name": "stdout",
     "output_type": "stream",
     "text": [
      "                               OLS Regression Results                               \n",
      "====================================================================================\n",
      "Dep. Variable:     Post_Money_Valuation_USD   R-squared:                       0.001\n",
      "Model:                                  OLS   Adj. R-squared:                 -0.026\n",
      "Method:                       Least Squares   F-statistic:                   0.04670\n",
      "Date:                      Mon, 10 Mar 2025   Prob (F-statistic):              0.999\n",
      "Time:                              12:24:33   Log-Likelihood:                -3200.9\n",
      "No. Observations:                       189   AIC:                             6414.\n",
      "Df Residuals:                           183   BIC:                             6433.\n",
      "Df Model:                                 5                                         \n",
      "Covariance Type:                  nonrobust                                         \n",
      "==============================================================================================\n",
      "                                 coef    std err          t      P>|t|      [0.025      0.975]\n",
      "----------------------------------------------------------------------------------------------\n",
      "const                       3.831e+05   1.42e+06      0.269      0.788   -2.43e+06    3.19e+06\n",
      "Startup_Age                -6746.3622   3.62e+04     -0.186      0.852   -7.82e+04    6.47e+04\n",
      "Total_Funding_USD             -0.0003      0.001     -0.206      0.837      -0.003       0.003\n",
      "Total_Funding_Rounds         1.14e+04   4.49e+04      0.254      0.800   -7.73e+04       1e+05\n",
      "IPO_Success                 3.192e+05   9.61e+05      0.332      0.740   -1.58e+06    2.21e+06\n",
      "Avg_Participants_Per_Round -5.868e+04   4.86e+05     -0.121      0.904   -1.02e+06    9.01e+05\n",
      "Industry                            0          0        nan        nan           0           0\n",
      "==============================================================================\n",
      "Omnibus:                      411.836   Durbin-Watson:                   2.008\n",
      "Prob(Omnibus):                  0.000   Jarque-Bera (JB):           250765.349\n",
      "Skew:                          13.253   Prob(JB):                         0.00\n",
      "Kurtosis:                     179.467   Cond. No.                          inf\n",
      "==============================================================================\n",
      "\n",
      "Notes:\n",
      "[1] Standard Errors assume that the covariance matrix of the errors is correctly specified.\n",
      "[2] The smallest eigenvalue is      0. This might indicate that there are\n",
      "strong multicollinearity problems or that the design matrix is singular.\n"
     ]
    },
    {
     "name": "stderr",
     "output_type": "stream",
     "text": [
      "/opt/anaconda3/lib/python3.12/site-packages/statsmodels/regression/linear_model.py:1967: RuntimeWarning: divide by zero encountered in scalar divide\n",
      "  return np.sqrt(eigvals[0]/eigvals[-1])\n"
     ]
    }
   ],
   "source": [
    "reg_main = pd.DataFrame()\n",
    "# Convert category_code into categorical type\n",
    "reg_main['Industry'] = main['category_code'].astype('category')\n",
    "\n",
    "# Convert date columns to datetime\n",
    "date_cols = ['funded_at', 'founded_at', 'first_investment_at', 'first_funding_at', 'public_at']\n",
    "for col in date_cols:\n",
    "    main[col] = pd.to_datetime(main[col], errors='coerce')  # Convert strings to datetime, force invalid ones to NaT\n",
    "\n",
    "# Calculate startup age at funding round\n",
    "reg_main['Startup_Age'] = (main['funded_at'] - main['founded_at']).dt.days / 365.25  # Convert days to years\n",
    "\n",
    "# Calculate time to first investment\n",
    "reg_main['Time_To_First_Investment'] = (main['first_investment_at'] - main['founded_at']).dt.days / 365.25\n",
    "\n",
    "# Calculate time to first funding\n",
    "reg_main['Time_To_First_Funding'] = (main['first_funding_at'] - main['founded_at']).dt.days / 365.25\n",
    "\n",
    "# Total funding raised per startup\n",
    "reg_main['Total_Funding_USD'] = main.groupby('category_code')['raised_amount_usd'].transform('sum')\n",
    "\n",
    "# Count of funding rounds per startup\n",
    "reg_main['Total_Funding_Rounds'] = main.groupby('category_code')['funded_at'].transform('count')\n",
    "\n",
    "# Binary indicator for IPO success\n",
    "reg_main['IPO_Success'] = np.where(main['public_at'].notnull(), 1, 0)\n",
    "\n",
    "# Convert funding round type to categorical\n",
    "reg_main['Funding_Round_Type'] = main['funding_round_type'].astype('category')\n",
    "\n",
    "# Convert post-money valuation to numeric\n",
    "reg_main['Post_Money_Valuation_USD'] = pd.to_numeric(main['post_money_valuation_usd'], errors='coerce')\n",
    "\n",
    "# Average investor participation per startup\n",
    "reg_main['Avg_Participants_Per_Round'] = main.groupby('category_code')['participants'].transform('mean')\n",
    "\n",
    "# Convert all relevant variables to numeric\n",
    "for col in ['Post_Money_Valuation_USD', 'Startup_Age', 'Total_Funding_USD',\n",
    "            'Total_Funding_Rounds', 'IPO_Success', 'Avg_Participants_Per_Round']:\n",
    "    reg_main[col] = pd.to_numeric(reg_main[col], errors='coerce')\n",
    "\n",
    "# Convert all values to numeric, coercing errors to NaN\n",
    "reg_main = reg_main.apply(pd.to_numeric, errors='coerce')\n",
    "\n",
    "# Drop missing values\n",
    "reg_main = reg_main.dropna(subset=['Post_Money_Valuation_USD', 'Startup_Age', 'Total_Funding_USD','Total_Funding_Rounds', \n",
    "                                   'IPO_Success', 'Avg_Participants_Per_Round'])\n",
    "\n",
    "# Define dependent variable (Y): Post-money valuation (proxy for startup success)\n",
    "Y = reg_main['Post_Money_Valuation_USD']\n",
    "\n",
    "# Define independent variables (X)\n",
    "X = reg_main[['Startup_Age', 'Total_Funding_USD', 'Total_Funding_Rounds', 'IPO_Success', 'Avg_Participants_Per_Round']]\n",
    "\n",
    "# Add industry dummies\n",
    "X = pd.get_dummies(X.join(reg_main['Industry']), drop_first=True)\n",
    "\n",
    "# OR, you can fill NaNs with 0 (or another strategy)\n",
    "X = X.fillna(0)\n",
    "\n",
    "# Add constant term for OLS regression\n",
    "X = sm.add_constant(X)\n",
    "\n",
    "# Run OLS regression\n",
    "model = sm.OLS(Y, X).fit()\n",
    "\n",
    "# Print regression results\n",
    "print(model.summary())\n"
   ]
  },
  {
   "cell_type": "markdown",
   "id": "631ca775-9d53-4e00-9cf6-5ff7f8e9b8a7",
   "metadata": {},
   "source": [
    "### Summary Statistics"
   ]
  },
  {
   "cell_type": "code",
   "execution_count": null,
   "id": "e44470ae-ec79-4336-bfe5-ac8f376484ec",
   "metadata": {},
   "outputs": [],
   "source": [
    "#Summary Stats\n",
    "summary = main.describe().T\n",
    "summary = summary.loc[['investment_rounds', 'invested_companies', 'funding_rounds', 'funding_total_usd', 'milestones']]\n",
    "summary.head()"
   ]
  },
  {
   "cell_type": "markdown",
   "id": "2aff7f9b-d593-4369-855e-c91b1c37893a",
   "metadata": {},
   "source": [
    "The above table presents the basic summary statistics available from the main data set. We see values like the average funding rounds, the average investment rounds and other elementary statistics.\n",
    "\n",
    "### Subsetted Summary Statistics\n"
   ]
  },
  {
   "cell_type": "code",
   "execution_count": null,
   "id": "044ba00b-707c-4ec9-9ca7-e16023d8056a",
   "metadata": {},
   "outputs": [],
   "source": [
    "#Average founding rounds per City/State\n",
    "\n",
    "summary_table_1 = main.groupby(\"state_code\").agg(\n",
    "    Total_Funding_Rounds=('funding_rounds', 'sum'),\n",
    "    Avg_Funding_Rounds=('funding_rounds', 'mean'),\n",
    "    Num_Companies=('funded_object_id', 'count') )\n",
    "\n",
    "summary_table_1 = summary_table_1.reset_index()\n",
    "summary_table_1.head()"
   ]
  },
  {
   "cell_type": "markdown",
   "id": "14a93270-2b5b-4657-8ac0-7406740e002a",
   "metadata": {},
   "source": [
    "This table gives the average funding rounds per companies by state. These values are necessary as a priliminary introduction to the role of location in startup success. As demonstrated in the table, the more startups that exist the greater the average funding round and the larger the total funding."
   ]
  },
  {
   "cell_type": "code",
   "execution_count": null,
   "id": "07983ab7-da6e-4e8d-98a1-d8844c39890f",
   "metadata": {},
   "outputs": [],
   "source": [
    "summary_table_2 = main.groupby(\"city\").agg(\n",
    "    Total_Amt_Raised=('raised_amount_usd', 'sum'),\n",
    "    Avg_Amt_Raised=('raised_amount_usd', 'mean'),\n",
    "    Num_Companies=('funded_object_id', 'count') )\n",
    "\n",
    "summary_table_2 = summary_table_2.reset_index()\n",
    "summary_table_2.head()"
   ]
  },
  {
   "cell_type": "markdown",
   "id": "8a683f3a-b7ac-4fec-be0a-3553f9945130",
   "metadata": {},
   "source": [
    "This summarizes the average amount raised per city which would be used in graphing later. "
   ]
  },
  {
   "cell_type": "code",
   "execution_count": null,
   "id": "d59f7b68-0068-44f8-a659-5f0712ba54b9",
   "metadata": {},
   "outputs": [],
   "source": [
    "# Function to calculate distance between two points using latitude and longitude\n",
    "def calculate_distance(lat1, lon1, lat2, lon2):\n",
    "    return geodesic((lat1, lon1), (lat2, lon2)).kilometers\n",
    "\n",
    "# Calculate the distance between each startup and the nearest university within the same state\n",
    "distances = []\n",
    "for i, startup in main.iterrows():\n",
    "    min_distance = float('inf')\n",
    "    for j, university in uni.iterrows():\n",
    "        if startup['city'] == university['city']:\n",
    "            distance = calculate_distance(startup['latitude'], startup['longitude'], university['latitude'], university['longitude'])\n",
    "            if distance < min_distance:\n",
    "                min_distance = distance\n",
    "    distances.append(min_distance if min_distance != float('inf') else None)\n",
    "\n",
    "# Add the distances to the startup data\n",
    "main['distance_to_nearest_university'] = distances\n",
    "\n",
    "# Drop rows where distance could not be calculated (i.e., no university in the same state)\n",
    "main = main.dropna(subset=['distance_to_nearest_university'])\n",
    "main.head()"
   ]
  },
  {
   "cell_type": "code",
   "execution_count": null,
   "id": "c3e4d31e-b4ce-44ef-8d53-8c74c771720d",
   "metadata": {},
   "outputs": [],
   "source": [
    "# 1. Scatter Plot – Average Funding Rounds by State \n",
    "#filtered_data = summary_table_1[summary_table_1[\"Num_Companies\"] < 100000]  # Adjusted threshold to remove outlier\n",
    "plt.figure(figsize=(10, 6))\n",
    "plt.scatter(summary_table_1[\"Num_Companies\"], summary_table_1[\"Avg_Funding_Rounds\"], alpha=0.7)\n",
    "\n",
    "plt.xscale('log')  # Log scale for the X-axis\n",
    "plt.yscale('linear')  # Keep Y-axis linear\n",
    "\n",
    "# Remove the right and top spines\n",
    "ax = plt.gca()  # Get current axes\n",
    "ax.spines['right'].set_visible(False)\n",
    "ax.spines['top'].set_visible(False)\n",
    "\n",
    "# Labels and title\n",
    "plt.xlabel(\"Number of Companies (Log Scale)\")\n",
    "plt.ylabel(\"Average Funding Rounds\")\n",
    "plt.title(\"Average Funding Rounds vs. Number of Companies per State)\")\n",
    "\n",
    "plt.show()"
   ]
  },
  {
   "cell_type": "markdown",
   "id": "68cc36f6-3046-4b58-97ad-1ae449aee9e5",
   "metadata": {},
   "source": [
    "The scatter plot above tells the relationship between the number of startups per state and the average funding rounds per state. The trend suggests that states with more startups see a higher and or consistent funding rounds on average. The plot has been ajusted in scale to remove the one outlier identified. This relationship may be as a result of concentration of investors around major states"
   ]
  },
  {
   "cell_type": "code",
   "execution_count": null,
   "id": "f0cd17b9-1865-4d98-975c-ee802fef5aca",
   "metadata": {},
   "outputs": [],
   "source": [
    "# Define bins for distance ranges\n",
    "bins = [0, 10, 20, 50, 100, 200, 500, np.inf]  # Distance ranges in km\n",
    "labels = [\"0-10\", \"10-20\", \"20-50\", \"50-100\", \"100-200\", \"200-500\", \"500+\"]\n",
    "\n",
    "# Assign each startup to a distance bin\n",
    "main['distance_bin'] = pd.cut(main['distance_to_nearest_university'], bins=bins, labels=labels, right=False)\n",
    "\n",
    "# Merge the startup data with the summary table\n",
    "merged = main.merge(summary_table_2, on=\"city\", how=\"left\")\n",
    "\n",
    "# Group by distance bin and compute the average amount raised\n",
    "distance_summary = merged.groupby(\"distance_bin\")[\"Avg_Amt_Raised\"].mean().reset_index()\n",
    "\n",
    "# Plot the histogram\n",
    "plt.figure(figsize=(10, 6))\n",
    "plt.bar(distance_summary[\"distance_bin\"], distance_summary[\"Avg_Amt_Raised\"], color='royalblue')\n",
    "\n",
    "# Formatting the plot\n",
    "plt.xlabel(\"Distance to Nearest University (km)\")\n",
    "plt.ylabel(\"Average Amount Raised (USD)\")\n",
    "plt.title(\"Investment Raised vs. Distance to Nearest University\")\n",
    "plt.xticks(rotation=45)\n",
    "plt.grid(axis=\"y\", linestyle=\"--\", alpha=0.7)\n",
    "\n",
    "# Remove the right and top spines\n",
    "ax = plt.gca()  # Get current axes\n",
    "ax.spines['right'].set_visible(False)\n",
    "ax.spines['top'].set_visible(False)\n",
    "\n",
    "plt.show()"
   ]
  },
  {
   "attachments": {},
   "cell_type": "markdown",
   "id": "b03a41b1-a6c8-4fbb-9479-623399e02305",
   "metadata": {},
   "source": [
    "The histogram above shows the relationship between proximity and the average investment of startups. This visual is necessary to see if proximity truly influences investment raised. We discover that the highest recorded average occurs within 20 – 50km, whereas the lowest is between 50 to 100 km. This shows that distance may not necessarily have that great of an effect."
   ]
  },
  {
   "cell_type": "code",
   "execution_count": null,
   "id": "4993a614-bea5-46f4-bf13-b989edca977a",
   "metadata": {},
   "outputs": [],
   "source": [
    "# bins for proximity ranges\n",
    "bins = [0, 10, 20, 50, 100, 200, 500, np.inf]  # Distance ranges in km\n",
    "labels = [\"0-10\", \"10-20\", \"20-50\", \"50-100\", \"100-200\", \"200-500\", \"500+\"]\n",
    "\n",
    "# Categorize startups into distance bins\n",
    "main['distance_bin'] = pd.cut(main['distance_to_nearest_university'], bins=bins, labels=labels, right=False)\n",
    "\n",
    "# Merge startup data with summary_table_1 (state-level funding data)\n",
    "merged = main.merge(summary_table_1, on=\"state_code\", how=\"left\")\n",
    "\n",
    "# Group by distance bin and compute the average funding rounds\n",
    "funding_summary = merged.groupby(\"distance_bin\")[\"Avg_Funding_Rounds\"].mean().reset_index()\n",
    "\n",
    "# Plot the bar chart\n",
    "plt.figure(figsize=(10, 6))\n",
    "plt.bar(funding_summary[\"distance_bin\"], funding_summary[\"Avg_Funding_Rounds\"], color='darkorange')\n",
    "\n",
    "# Remove the right and top spines\n",
    "ax = plt.gca()  # Get current axes\n",
    "ax.spines['right'].set_visible(False)\n",
    "ax.spines['top'].set_visible(False)\n",
    "\n",
    "# Formatting the plot\n",
    "plt.xlabel(\"Distance to Nearest University (km)\")\n",
    "plt.ylabel(\"Average Funding Rounds\")\n",
    "plt.title(\"Average Funding Rounds vs. Proximity to Top Universities\")\n",
    "plt.xticks(rotation=45)\n",
    "plt.grid(axis=\"y\", linestyle=\"--\", alpha=0.7)"
   ]
  },
  {
   "cell_type": "markdown",
   "id": "db92eae1-ecbf-4c92-95b1-24196878b2bd",
   "metadata": {},
   "source": [
    "The bar chart above would help us visualise answers to questions. For example if the funding rounds decline as distance increases, it supports the idea that universities boost startup ecosystems. However this graph shows that funding rounds does not decline. As average funding rounds vary only slightly we can determine that distance may not have much of an effect on funding rounds of startups."
   ]
  },
  {
   "cell_type": "code",
   "execution_count": null,
   "id": "27b83041-968a-4321-9dd7-d56c53bcf786",
   "metadata": {},
   "outputs": [],
   "source": [
    "# bins for proximity ranges\n",
    "bins = [0, 10, 20, 50, 100, 200, 500, np.inf]  # Distance ranges in km\n",
    "labels = [\"0-10\", \"10-20\", \"20-50\", \"50-100\", \"100-200\", \"200-500\", \"500+\"]\n",
    "\n",
    "# Categorize startups into distance bins\n",
    "main['distance_bin'] = pd.cut(main['distance_to_nearest_university'], bins=bins, labels=labels, right=False)\n",
    "\n",
    "# Merge startup data with both summary tables\n",
    "merged = main.merge(summary_table_1, on=\"state_code\", how=\"left\") \\\n",
    "             .merge(summary_table_2, on=\"city\", how=\"left\")\n",
    "\n",
    "# Group by distance bin and compute the averages\n",
    "funding_vs_distance = merged.groupby(\"distance_bin\").agg(\n",
    "    Avg_Funding_Rounds=('Avg_Funding_Rounds', 'mean'),\n",
    "    Avg_Amt_Raised=('Avg_Amt_Raised', 'mean')\n",
    ").reset_index()\n",
    "\n",
    "# Plot the line chart\n",
    "plt.figure(figsize=(10, 6))\n",
    "\n",
    "# Plot Avg Funding Rounds\n",
    "plt.plot(funding_vs_distance[\"distance_bin\"], funding_vs_distance[\"Avg_Funding_Rounds\"], \n",
    "         marker=\"o\", linestyle=\"-\", color=\"darkorange\", label=\"Avg Funding Rounds\")\n",
    "\n",
    "# Plot Avg Amount Raised (normalized for scale)\n",
    "plt.plot(funding_vs_distance[\"distance_bin\"], funding_vs_distance[\"Avg_Amt_Raised\"] / 1e6, \n",
    "         marker=\"s\", linestyle=\"--\", color=\"royalblue\", label=\"Avg Amount Raised (Millions USD)\")\n",
    "\n",
    "# Formatting the plot\n",
    "plt.xlabel(\"Distance to Nearest University (km)\")\n",
    "plt.ylabel(\"Value\")\n",
    "plt.title(\"Average Funding Rounds & Amount Raised vs. Proximity to Universities\")\n",
    "plt.legend()\n",
    "plt.xticks(rotation=45)\n",
    "plt.grid(axis=\"y\", linestyle=\"--\", alpha=0.7)\n",
    "\n",
    "# Remove the right and top spines\n",
    "ax = plt.gca()  # Get current axes\n",
    "ax.spines['right'].set_visible(False)\n",
    "ax.spines['top'].set_visible(False)\n",
    "\n",
    "plt.show()"
   ]
  },
  {
   "cell_type": "markdown",
   "id": "aa55242f-d44e-4416-96ec-9eed0399159a",
   "metadata": {},
   "source": [
    "This line graph shows the relationship between distance, average funding rounds and average amounts raised. It is important to know if higher average funding rounds is positively correlated to the average amount raised and it is important to see what role distance plays. For example between 50- 100km is the highest average funding round however it is also the lowest average amount raised range. "
   ]
  },
  {
   "cell_type": "markdown",
   "id": "b4749c6e-db3e-4681-8965-8478815a5e4a",
   "metadata": {},
   "source": [
    "### Conclusion\n",
    "To conclude, from the literature review and the data presented, we see that location decisions are important for startups. The scatter plot showed that being located in high-density startup locations provides room for higher average funding rounds than being in a low-density startup location. Further analysis is needed to look fully at the role of proximity to elite universities."
   ]
  },
  {
   "cell_type": "markdown",
   "id": "511456f4-0b93-47c0-98ed-72b8e3cc597d",
   "metadata": {},
   "source": [
    "### References\n",
    "Anselin, L., Varga, A., & Acs, Z. (1997). Local Geographic Spillovers between University Research and High Technology Innovations. Journal of Urban Economics, 42(3), 422-448.\n",
    "\n",
    "Audretsch, D. B., Lehmann, E. E., & Warning, S. (2005). University spillovers and new firm location. Research Policy, 34(7), 1113–1122.\n",
    "\n",
    "Baptista, R., Mendonça, J. Proximity to knowledge sources and the location of knowledge-based start-ups. Ann Reg Sci 45, 5–29 (2010).\n",
    "\n",
    "Bonaccorsi, A., Colombo, M.G., Guerini, M. et al. University specialization and new firm creation across industries. Small Bus Econ 41, 837–863 (2013).\n",
    "\n",
    "Fritsch, M., & Aamoucke, R. (2017). Fields of knowledge in higher education institutions, and innovative start‐ups: An empirical investigation. Papers in Regional Science, 96, S1-S28."
   ]
  }
 ],
 "metadata": {
  "kernelspec": {
   "display_name": "Python [conda env:base] *",
   "language": "python",
   "name": "conda-base-py"
  },
  "language_info": {
   "codemirror_mode": {
    "name": "ipython",
    "version": 3
   },
   "file_extension": ".py",
   "mimetype": "text/x-python",
   "name": "python",
   "nbconvert_exporter": "python",
   "pygments_lexer": "ipython3",
   "version": "3.12.7"
  }
 },
 "nbformat": 4,
 "nbformat_minor": 5
}
