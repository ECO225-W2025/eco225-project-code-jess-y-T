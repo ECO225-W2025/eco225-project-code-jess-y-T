{
 "cells": [
  {
   "cell_type": "markdown",
   "id": "1ec608f3-a2cc-4d9a-89d7-c3eda559e051",
   "metadata": {},
   "source": [
    "# The Geography of Startup Success: The Effect of Proximity To Elite Universities On Startups' Growth and Investment. \n",
    "### by Jessica Dowuona-Owoo"
   ]
  },
  {
   "cell_type": "markdown",
   "id": "570c93a6-a529-439e-9b00-abd6d88bb7e6",
   "metadata": {},
   "source": [
    "# Project 1"
   ]
  },
  {
   "cell_type": "markdown",
   "id": "6e265e5a-4e32-402a-bafb-501ef8f30178",
   "metadata": {},
   "source": [
    "## Introduction"
   ]
  },
  {
   "cell_type": "code",
   "execution_count": null,
   "id": "4e926805-b166-469f-b4d4-1764629be055",
   "metadata": {},
   "outputs": [],
   "source": []
  },
  {
   "cell_type": "markdown",
   "id": "01bba622-39db-46f3-bed6-b2ea2e692d12",
   "metadata": {},
   "source": [
    "## Data Cleaning"
   ]
  },
  {
   "cell_type": "code",
   "execution_count": 11,
   "id": "499c50c8-c6bd-4703-8f7d-5d1238ed1a8b",
   "metadata": {},
   "outputs": [],
   "source": [
    "import matplotlib\n",
    "import matplotlib.colors as mplc\n",
    "import matplotlib.patches as patches\n",
    "import pandas as pd\n",
    "import geopandas as gpd\n",
    "import numpy as np\n",
    "import matplotlib.pyplot as plt\n",
    "import seaborn as sns\n",
    "import statsmodels.api as sm\n",
    "import matplotlib.colors as mcolors\n",
    "import folium\n",
    "import us\n",
    "\n",
    "from statsmodels.iolib.summary2 import summary_col\n",
    "from stargazer.stargazer import Stargazer\n",
    "from IPython.core.display import HTML\n",
    "from geopy.distance import geodesic\n",
    "from folium.plugins import HeatMap\n",
    "from shapely.geometry import Point\n",
    "from geopy.distance import great_circle\n"
   ]
  },
  {
   "cell_type": "code",
   "execution_count": 12,
   "id": "32f5e692-8e63-441a-8506-c6ac9b45753e",
   "metadata": {},
   "outputs": [],
   "source": [
    "#Data from the Startups data set\n",
    "objects = pd.read_csv('/Users/jessyterlisner/Desktop/ECO225Project/Data/objects.csv', low_memory=False)\n",
    "investments = pd.read_csv('/Users/jessyterlisner/Desktop/ECO225Project/Data/investments.csv')\n",
    "office = pd.read_csv('/Users/jessyterlisner/Desktop/ECO225Project/Data/offices.csv')\n",
    "f_rounds = pd.read_csv('/Users/jessyterlisner/Desktop/ECO225Project/Data/funding_rounds.csv')\n",
    "ipos = pd.read_csv('/Users/jessyterlisner/Desktop/ECO225Project/Data/ipos.csv')"
   ]
  },
  {
   "cell_type": "markdown",
   "id": "968be08e-a04d-4bbc-be5b-2d7282e5211e",
   "metadata": {},
   "source": [
    "## Summary Statistics Tables"
   ]
  },
  {
   "cell_type": "code",
   "execution_count": null,
   "id": "885075ee-86e8-4239-b63a-d22b0ac25b38",
   "metadata": {},
   "outputs": [],
   "source": []
  },
  {
   "cell_type": "code",
   "execution_count": null,
   "id": "280c3428-ddc0-4049-ac8e-aa81ed27a485",
   "metadata": {},
   "outputs": [],
   "source": []
  },
  {
   "cell_type": "code",
   "execution_count": null,
   "id": "da7bffc1-509c-4382-bd91-7cfbb42b273c",
   "metadata": {},
   "outputs": [],
   "source": []
  },
  {
   "cell_type": "code",
   "execution_count": null,
   "id": "ae99d830-cc5a-4778-af9d-04b4ef2e14e1",
   "metadata": {},
   "outputs": [],
   "source": []
  },
  {
   "cell_type": "markdown",
   "id": "95e687ed-d1f5-4762-8566-73b3f07a12dc",
   "metadata": {},
   "source": [
    "## Plots "
   ]
  },
  {
   "cell_type": "code",
   "execution_count": null,
   "id": "ab31280e-78c8-4f9f-974d-926368f3d005",
   "metadata": {},
   "outputs": [],
   "source": []
  },
  {
   "cell_type": "code",
   "execution_count": null,
   "id": "47d3629b-bb0f-4527-b13d-20aabb44a62f",
   "metadata": {},
   "outputs": [],
   "source": []
  },
  {
   "cell_type": "code",
   "execution_count": null,
   "id": "913c6b62-febc-4989-accd-6edc7477beb4",
   "metadata": {},
   "outputs": [],
   "source": []
  },
  {
   "cell_type": "markdown",
   "id": "89f88961-9638-483f-b7f5-86c1a0d67fdc",
   "metadata": {},
   "source": [
    "# Project Two"
   ]
  },
  {
   "cell_type": "markdown",
   "id": "7966c339-65e8-43b4-8c07-e97697e3ea67",
   "metadata": {},
   "source": [
    "## The Message"
   ]
  },
  {
   "cell_type": "code",
   "execution_count": null,
   "id": "2f90d8fa-1f14-4cf1-9c8c-189117cc2391",
   "metadata": {},
   "outputs": [],
   "source": []
  },
  {
   "cell_type": "markdown",
   "id": "c24db4c4-fe40-40a1-af2a-dfd2c3a74774",
   "metadata": {},
   "source": [
    "## Maps and Interpretations"
   ]
  },
  {
   "cell_type": "code",
   "execution_count": null,
   "id": "dac1d3bd-152f-4795-9c89-6d7510c7e591",
   "metadata": {},
   "outputs": [],
   "source": []
  },
  {
   "cell_type": "markdown",
   "id": "17818f0b-f857-4387-8e34-5ad616508e68",
   "metadata": {},
   "source": [
    "## Regressions"
   ]
  },
  {
   "cell_type": "markdown",
   "id": "e9a1de23-508f-4ca8-b609-9c7c040a8c69",
   "metadata": {},
   "source": [
    "### Table 1"
   ]
  },
  {
   "cell_type": "code",
   "execution_count": null,
   "id": "c38d0084-af2d-47ab-99fe-7154056b468c",
   "metadata": {},
   "outputs": [],
   "source": []
  },
  {
   "cell_type": "code",
   "execution_count": null,
   "id": "6ba09b89-9a26-41a9-a2aa-0da94e3028de",
   "metadata": {},
   "outputs": [],
   "source": []
  },
  {
   "cell_type": "markdown",
   "id": "39f9d614-e360-440e-b96e-309d6de47858",
   "metadata": {},
   "source": [
    "### Table 2"
   ]
  },
  {
   "cell_type": "code",
   "execution_count": null,
   "id": "65885545-25e3-4daf-b2ac-57ccef9a5a72",
   "metadata": {},
   "outputs": [],
   "source": []
  },
  {
   "cell_type": "code",
   "execution_count": null,
   "id": "17e46626-7d7e-4ecf-a577-7a50901419a0",
   "metadata": {},
   "outputs": [],
   "source": []
  },
  {
   "cell_type": "markdown",
   "id": "e7989229-5520-4b69-831a-b4cb6adf49d5",
   "metadata": {},
   "source": [
    "## Conclusion"
   ]
  },
  {
   "cell_type": "markdown",
   "id": "e85b1fba-988b-4ea7-af44-c38377f19daf",
   "metadata": {},
   "source": [
    "## References\n",
    "\n",
    "Anselin, L., Varga, A., & Acs, Z. (1997). Local Geographic Spillovers between University Research and High Technology Innovations. Journal of Urban Economics, 42(3), 422-448.\n",
    "\n",
    "Audretsch, D. B., Lehmann, E. E., & Warning, S. (2005). University spillovers and new firm location. Research Policy, 34(7), 1113–1122.\n",
    "\n",
    "Baptista, R., Mendonça, J. Proximity to knowledge sources and the location of knowledge-based start-ups. Ann Reg Sci 45, 5–29 (2010).\n",
    "\n",
    "Bonaccorsi, A., Colombo, M.G., Guerini, M. et al. University specialization and new firm creation across industries. Small Bus Econ 41, 837–863 (2013).\n",
    "\n",
    "Fritsch, M., & Aamoucke, R. (2017). Fields of knowledge in higher education institutions, and innovative start‐ups: An empirical investigation. Papers in Regional Science, 96, S1-S28."
   ]
  }
 ],
 "metadata": {
  "kernelspec": {
   "display_name": "Python [conda env:base] *",
   "language": "python",
   "name": "conda-base-py"
  },
  "language_info": {
   "codemirror_mode": {
    "name": "ipython",
    "version": 3
   },
   "file_extension": ".py",
   "mimetype": "text/x-python",
   "name": "python",
   "nbconvert_exporter": "python",
   "pygments_lexer": "ipython3",
   "version": "3.12.7"
  }
 },
 "nbformat": 4,
 "nbformat_minor": 5
}
