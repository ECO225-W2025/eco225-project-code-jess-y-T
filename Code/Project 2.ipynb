{
 "cells": [
  {
   "cell_type": "markdown",
   "id": "1ec608f3-a2cc-4d9a-89d7-c3eda559e051",
   "metadata": {},
   "source": [
    "# The Geography of Startup Success: The Effect of Proximity To Universities On Startups' Investment Success. \n",
    "### by Jessica Dowuona-Owoo"
   ]
  },
  {
   "cell_type": "markdown",
   "id": "570c93a6-a529-439e-9b00-abd6d88bb7e6",
   "metadata": {},
   "source": [
    "# Project 1"
   ]
  },
  {
   "cell_type": "markdown",
   "id": "6e265e5a-4e32-402a-bafb-501ef8f30178",
   "metadata": {},
   "source": [
    "## Introduction"
   ]
  },
  {
   "cell_type": "markdown",
   "id": "9f9bab3f-8fce-472e-ab48-e3131a022a31",
   "metadata": {},
   "source": [
    "It is almost intuitive to believe there is some form of significance to startups of being located near a university. The location of a startup is one of the most important endogenous factors that businesses consider, and this paper seeks to determine the relationship between proximity to universities and start-up investment success.\n",
    "\n",
    "When it comes to the relationship between education and startup success there are many aspects to consider to determine relationships. A look into the effect of the education of the founder and the entrepreneurial success shows that generally the more educated a founder is the more successful they are at securing funds however, it was also discovered that too much funding may rather reduce the funding received (Everett, C. R., 2024). \n",
    "\n",
    "Many studies have been done focusing on a particular relationship between universities and startups (or innovation), for example, determining the role universities specialized in technical fields, say engineering and applied science (Bonaccorsi et al., 2013), have on startup creation or start-up operations in general (Fritsch & Aamoucke, 2017) or the innovative capacities of the startup (Allen, T. J., et. al, 2016). Other studies show positive spillovers between research universities and innovation by providing research and development (R&D) initiatives (Anselin et al., 1997). Additionally, some papers show an opposing correlation to fields of study that may have been seen to be the more attractive (Audretsch et al., 2005). Further studies also look at the role of access to knowledge bases in determining the type of startups that are created in the area (Baptista et al., 2010). This research seeks to explore the unanswered question of proximity's effect on specifically investment success as opposed to the broader success of a startup or a sector of a startup.\n",
    "\n",
    "Additionally it is also worth noting that educational bases may interact with other variables like VC market competition to fully grasp the success of investments (Hong, S, Serfes, K, Thiele, V., 2020). The insight from startup founders also lets us know what other factors aside location they deem as important for funding success (Prohorovs, A. et al., 2019). \n",
    "\n",
    "To answer our question, we will use a startup investments data set (Justinas Cirtautas, 2020), which contains information on start-ups from 1980 to 2014, and all universities data (Work WIth Data, 2025), which includes ranking, population, founding year and other information about universities. The focus of this paper is to look at the US, Canada and China, due to the data provided in the dataset. Thus, we will consider universities and startups in the US. With this data we will explore the relationship between proximity and investment success. Insights from this paper, when combined with other startup success determiners like the fused large language model (Maarouf, A. et al., 2025) helps startups and investors to make more informed decisions in the early stages of their life span."
   ]
  },
  {
   "cell_type": "markdown",
   "id": "4aaa9832-fc3b-44f6-85a4-f1c4b310f406",
   "metadata": {},
   "source": [
    "### Variable Decisions\n",
    "\n",
    "The chosen Y variable is investment success- expressed as the total investment raised. However other variables will be used as a proxy for investment success due to the nature of their contribution to the company's investment. These include funding rounds and the initial public offering success. With our current data set, these are convenient and easy-to-calculate investment success measures. They are also relatively easy to interpret for example, higher average funding rounds can be indicative of increased investor-investee interactions.\n",
    "\n",
    "For the x values, we will consider the proximity to universities, the number of startups per state, the funding round type, and the startup age. The number of startups per state tells us the density of startups between states, and studying this x variable may help us discover whether or not the concentration of startups is helpful or detrimental to the average funds that each startup receives. \n",
    "The startup age at will tell us what effect the startups age has on investment success."
   ]
  },
  {
   "cell_type": "markdown",
   "id": "01bba622-39db-46f3-bed6-b2ea2e692d12",
   "metadata": {},
   "source": [
    "## Data Cleaning"
   ]
  },
  {
   "cell_type": "code",
   "execution_count": 1,
   "id": "499c50c8-c6bd-4703-8f7d-5d1238ed1a8b",
   "metadata": {},
   "outputs": [],
   "source": [
    "import matplotlib\n",
    "import matplotlib.colors as mplc\n",
    "import matplotlib.patches as patches\n",
    "import pandas as pd\n",
    "import geopandas as gpd\n",
    "import numpy as np\n",
    "import matplotlib.pyplot as plt\n",
    "import seaborn as sns\n",
    "import statsmodels.api as sm\n",
    "import matplotlib.colors as mcolors\n",
    "import folium\n",
    "import us\n",
    "\n",
    "from matplotlib.colors import ListedColormap\n",
    "from statsmodels.iolib.summary2 import summary_col\n",
    "from stargazer.stargazer import Stargazer\n",
    "from IPython.core.display import HTML\n",
    "from geopy.distance import geodesic\n",
    "from folium.plugins import HeatMap\n",
    "from shapely.geometry import Point\n",
    "from geopy.distance import great_circle\n"
   ]
  },
  {
   "cell_type": "code",
   "execution_count": 31,
   "id": "32f5e692-8e63-441a-8506-c6ac9b45753e",
   "metadata": {},
   "outputs": [],
   "source": [
    "#Data from the Startups data set\n",
    "objects = pd.read_csv('/Users/jessyterlisner/Desktop/ECO225Project/Data/objects.csv', low_memory=False)\n",
    "investments = pd.read_csv('/Users/jessyterlisner/Desktop/ECO225Project/Data/investments.csv')\n",
    "office = pd.read_csv('/Users/jessyterlisner/Desktop/ECO225Project/Data/offices.csv')\n",
    "f_rounds = pd.read_csv('/Users/jessyterlisner/Desktop/ECO225Project/Data/funding_rounds.csv')\n",
    "ipos = pd.read_csv('/Users/jessyterlisner/Desktop/ECO225Project/Data/ipos.csv')\n",
    "\n",
    "# renaming values\n",
    "objects.rename(columns={'id':'funded_object_id'}, inplace=True)\n",
    "f_rounds.rename(columns={'object_id':'funded_object_id'}, inplace=True)\n",
    "office.rename(columns={'object_id':'funded_object_id'}, inplace=True)\n",
    "ipos.rename(columns={'object_id':'funded_object_id'}, inplace=True)\n",
    "\n",
    "\n",
    "#dropping columns as they become duplicates in the main source file\n",
    "office = office.drop(columns= ['created_at', 'updated_at', 'country_code', 'state_code', 'region', 'city'], inplace=False)\n",
    "obj = objects.drop(columns= ['created_at', 'updated_at', 'tag_list', 'logo_height', 'logo_width', 'logo_url', 'created_by', \n",
    "                             'twitter_username', 'homepage_url'], inplace= False)\n",
    "inv = investments.drop(columns= ['created_at', 'updated_at'], inplace=False)\n",
    "f_rounds = f_rounds.drop(columns = ['source_description', 'created_at', 'updated_at', 'created_by', 'pre_money_valuation', \n",
    "                                    'raised_amount','post_money_valuation', 'post_money_currency_code', \n",
    "                                    'pre_money_valuation', 'pre_money_currency_code'], inplace=False)\n",
    "\n",
    "#Merge source files\n",
    "source = pd.merge(obj, inv, on= 'funded_object_id')\n",
    "#source = pd.merge(source, f_rounds, on= 'funded_object_id')\n",
    "\n",
    "#merge offices and source to gain location data \n",
    "#source = pd.merge(source, office, on= 'funded_object_id')\n",
    "#source = source.drop_duplicates(subset=['funded_object_id']) # reduce duplication and keep only one office per startup.\n",
    "#source = source.dropna(subset = ['latitude' , 'longitude'])\n",
    "\n",
    "#merge ipos and main to get ipo data\n",
    "#main = source.loc[:, ~source.columns.duplicated()]# Drop duplicate columns\n",
    "#main = pd.merge(source, ipos, on='funded_object_id', suffixes=('_main', '_ipos'))\n",
    "\n",
    "# Keep only relevant countries (USA, CAN, CHN)\n",
    "#main = main[main[\"country_code\"].isin([\"USA\", \"CAN\", \"CHN\"])]\n",
    "\n",
    "#main.columns\n"
   ]
  },
  {
   "cell_type": "code",
   "execution_count": 32,
   "id": "fede3a3f-16b8-46d0-b7ea-392cc1597f0a",
   "metadata": {},
   "outputs": [
    {
     "data": {
      "text/plain": [
       "country_code\n",
       "USA    57659\n",
       "GBR     4547\n",
       "CAN     2084\n",
       "DEU     1896\n",
       "FRA     1633\n",
       "       ...  \n",
       "PER        1\n",
       "ALB        1\n",
       "PST        1\n",
       "GIN        1\n",
       "SLV        1\n",
       "Name: count, Length: 100, dtype: int64"
      ]
     },
     "execution_count": 32,
     "metadata": {},
     "output_type": "execute_result"
    }
   ],
   "source": [
    "source['country_code'].value_counts()"
   ]
  },
  {
   "cell_type": "code",
   "execution_count": 19,
   "id": "19261034-f5cc-41c7-80a3-483684058599",
   "metadata": {},
   "outputs": [],
   "source": [
    "#Choosing only USA\n",
    "main_usa = main[main[\"country_code\"] == \"USA\"]"
   ]
  },
  {
   "cell_type": "code",
   "execution_count": 20,
   "id": "bfc07d15-6a63-48a9-91b6-c65bdeffed16",
   "metadata": {},
   "outputs": [],
   "source": [
    "all_uni = pd.read_csv('/Users/jessyterlisner/Desktop/ECO225Project/Data/All universities.csv')\n",
    "all_uni = all_uni.dropna(subset = ['latitude' , 'longitude'])\n",
    "all_uni = all_uni.drop(columns= ['logo link', 'domain', 'description'], inplace=False)"
   ]
  },
  {
   "cell_type": "code",
   "execution_count": 21,
   "id": "09368db4-2784-40d0-83ba-ef8f278c9331",
   "metadata": {},
   "outputs": [],
   "source": [
    "# Function to calculate distance between two points using latitude and longitude\n",
    "def calculate_distance(lat1, lon1, lat2, lon2):\n",
    "    return geodesic((lat1, lon1), (lat2, lon2)).kilometers\n",
    "\n",
    "# Calculate the distance between each startup and the nearest university within the same state\n",
    "distances = []\n",
    "for i, startup in main.iterrows():\n",
    "    min_distance = float('inf')\n",
    "    for j, university in all_uni.iterrows():\n",
    "        if startup['city'] == university['city']:\n",
    "            distance = calculate_distance(startup['latitude'], startup['longitude'], university['latitude'], university['longitude'])\n",
    "            if distance < min_distance:\n",
    "                min_distance = distance\n",
    "    distances.append(min_distance if min_distance != float('inf') else None)\n",
    "\n",
    "# Add the distances to the startup data\n",
    "main['distance_to_nearest_university'] = distances\n",
    "\n",
    "# Drop rows where distance could not be calculated (i.e., no university in the same state)\n",
    "main = main.dropna(subset=['distance_to_nearest_university'])"
   ]
  },
  {
   "cell_type": "markdown",
   "id": "968be08e-a04d-4bbc-be5b-2d7282e5211e",
   "metadata": {},
   "source": [
    "## Summary Statistics Tables"
   ]
  },
  {
   "cell_type": "code",
   "execution_count": 23,
   "id": "885075ee-86e8-4239-b63a-d22b0ac25b38",
   "metadata": {},
   "outputs": [
    {
     "data": {
      "text/html": [
       "<div>\n",
       "<style scoped>\n",
       "    .dataframe tbody tr th:only-of-type {\n",
       "        vertical-align: middle;\n",
       "    }\n",
       "\n",
       "    .dataframe tbody tr th {\n",
       "        vertical-align: top;\n",
       "    }\n",
       "\n",
       "    .dataframe thead th {\n",
       "        text-align: right;\n",
       "    }\n",
       "</style>\n",
       "<table border=\"1\" class=\"dataframe\">\n",
       "  <thead>\n",
       "    <tr style=\"text-align: right;\">\n",
       "      <th></th>\n",
       "      <th>count</th>\n",
       "      <th>mean</th>\n",
       "      <th>std</th>\n",
       "      <th>min</th>\n",
       "      <th>50%</th>\n",
       "      <th>max</th>\n",
       "    </tr>\n",
       "  </thead>\n",
       "  <tbody>\n",
       "    <tr>\n",
       "      <th>investment_rounds</th>\n",
       "      <td>138.00</td>\n",
       "      <td>1.88</td>\n",
       "      <td>9.10</td>\n",
       "      <td>0.00</td>\n",
       "      <td>0.00</td>\n",
       "      <td>89.00</td>\n",
       "    </tr>\n",
       "    <tr>\n",
       "      <th>invested_companies</th>\n",
       "      <td>138.00</td>\n",
       "      <td>1.55</td>\n",
       "      <td>7.49</td>\n",
       "      <td>0.00</td>\n",
       "      <td>0.00</td>\n",
       "      <td>73.00</td>\n",
       "    </tr>\n",
       "    <tr>\n",
       "      <th>funding_rounds</th>\n",
       "      <td>138.00</td>\n",
       "      <td>3.51</td>\n",
       "      <td>2.64</td>\n",
       "      <td>1.00</td>\n",
       "      <td>3.00</td>\n",
       "      <td>13.00</td>\n",
       "    </tr>\n",
       "    <tr>\n",
       "      <th>funding_total_usd</th>\n",
       "      <td>138.00</td>\n",
       "      <td>161254857.59</td>\n",
       "      <td>393957562.53</td>\n",
       "      <td>0.00</td>\n",
       "      <td>54124998.50</td>\n",
       "      <td>3985050000.00</td>\n",
       "    </tr>\n",
       "  </tbody>\n",
       "</table>\n",
       "</div>"
      ],
      "text/plain": [
       "                    count         mean          std  min         50%  \\\n",
       "investment_rounds  138.00         1.88         9.10 0.00        0.00   \n",
       "invested_companies 138.00         1.55         7.49 0.00        0.00   \n",
       "funding_rounds     138.00         3.51         2.64 1.00        3.00   \n",
       "funding_total_usd  138.00 161254857.59 393957562.53 0.00 54124998.50   \n",
       "\n",
       "                             max  \n",
       "investment_rounds          89.00  \n",
       "invested_companies         73.00  \n",
       "funding_rounds             13.00  \n",
       "funding_total_usd  3985050000.00  "
      ]
     },
     "execution_count": 23,
     "metadata": {},
     "output_type": "execute_result"
    }
   ],
   "source": [
    "pd.set_option('display.float_format', '{:.2f}'.format)\n",
    "summary = main.describe().T\n",
    "summary = summary.loc[['investment_rounds', 'invested_companies', 'funding_rounds', 'funding_total_usd']]\n",
    "# Drop the 25% and 75% columns\n",
    "summary = summary.drop(columns=[\"25%\", \"75%\"])\n",
    "summary.head()"
   ]
  },
  {
   "cell_type": "markdown",
   "id": "0ca74865-6287-42e8-929f-027248d57ac5",
   "metadata": {},
   "source": [
    "This table shows that the funding total is skewed- few companies receiving billions, pull the mean up. Investment rounds and invested companies have either zeros or missing data which affect the calculation of these values."
   ]
  },
  {
   "cell_type": "code",
   "execution_count": 25,
   "id": "ae99d830-cc5a-4778-af9d-04b4ef2e14e1",
   "metadata": {},
   "outputs": [
    {
     "data": {
      "text/html": [
       "<div>\n",
       "<style scoped>\n",
       "    .dataframe tbody tr th:only-of-type {\n",
       "        vertical-align: middle;\n",
       "    }\n",
       "\n",
       "    .dataframe tbody tr th {\n",
       "        vertical-align: top;\n",
       "    }\n",
       "\n",
       "    .dataframe thead th {\n",
       "        text-align: right;\n",
       "    }\n",
       "</style>\n",
       "<table border=\"1\" class=\"dataframe\">\n",
       "  <thead>\n",
       "    <tr style=\"text-align: right;\">\n",
       "      <th></th>\n",
       "      <th>Company_Group</th>\n",
       "      <th>Total_Funding_Rounds</th>\n",
       "      <th>Avg_Funding_Rounds</th>\n",
       "      <th>Num_Companies</th>\n",
       "    </tr>\n",
       "  </thead>\n",
       "  <tbody>\n",
       "    <tr>\n",
       "      <th>0</th>\n",
       "      <td>High</td>\n",
       "      <td>421</td>\n",
       "      <td>3.71</td>\n",
       "      <td>118</td>\n",
       "    </tr>\n",
       "    <tr>\n",
       "      <th>1</th>\n",
       "      <td>Low</td>\n",
       "      <td>34</td>\n",
       "      <td>3.78</td>\n",
       "      <td>9</td>\n",
       "    </tr>\n",
       "  </tbody>\n",
       "</table>\n",
       "</div>"
      ],
      "text/plain": [
       "  Company_Group  Total_Funding_Rounds  Avg_Funding_Rounds  Num_Companies\n",
       "0          High                   421                3.71            118\n",
       "1           Low                    34                3.78              9"
      ]
     },
     "execution_count": 25,
     "metadata": {},
     "output_type": "execute_result"
    }
   ],
   "source": [
    "# Group by state and compute total & average funding rounds, and number of companies\n",
    "summary_table = main.groupby(\"state_code\").agg(\n",
    "    Total_Funding_Rounds=('funding_rounds', 'sum'),\n",
    "    Avg_Funding_Rounds=('funding_rounds', 'mean'),\n",
    "    Num_Companies=('funded_object_id', 'count')).reset_index()\n",
    "\n",
    "# Define the threshold for High vs. Low company counts (median-based threshold)\n",
    "threshold = summary_table[\"Num_Companies\"].median()  \n",
    "\n",
    "# Create a new column classifying each state as \"High\" or \"Low\"\n",
    "summary_table[\"Company_Group\"] = summary_table[\"Num_Companies\"].apply(\n",
    "    lambda x: \"High\" if x >= threshold else \"Low\")\n",
    "\n",
    "# Group by the High/Low classification\n",
    "final_summary = summary_table.groupby(\"Company_Group\").agg(\n",
    "    Total_Funding_Rounds=('Total_Funding_Rounds', 'sum'),\n",
    "    Avg_Funding_Rounds=('Avg_Funding_Rounds', 'mean'),\n",
    "    Num_Companies=('Num_Companies', 'sum')).reset_index()\n",
    "\n",
    "final_summary.head()"
   ]
  },
  {
   "cell_type": "markdown",
   "id": "e1a8d91e-bb7c-45fb-ad98-c9d7f7e30c6c",
   "metadata": {},
   "source": [
    "As suggested, this table which gives the average funding rounds per companies by state has been grouped between high and low number of companies. These values are necessary as a priliminary introduction to the role of location in startup success. As demonstrated in the table, the more startups that exist the greater the average funding round and the larger the total funding."
   ]
  },
  {
   "cell_type": "markdown",
   "id": "95e687ed-d1f5-4762-8566-73b3f07a12dc",
   "metadata": {},
   "source": [
    "## Plots "
   ]
  },
  {
   "cell_type": "code",
   "execution_count": 28,
   "id": "ab31280e-78c8-4f9f-974d-926368f3d005",
   "metadata": {},
   "outputs": [
    {
     "data": {
      "image/png": "[encoded data removed]",
      "text/plain": [
       "<Figure size 1000x600 with 1 Axes>"
      ]
     },
     "metadata": {},
     "output_type": "display_data"
    }
   ],
   "source": [
    "# 1. Scatter Plot – Average Funding Rounds by State \n",
    "#filtered_data = summary_table_1[summary_table_1[\"Num_Companies\"] < 100000]  # Adjusted threshold to remove outlier\n",
    "plt.figure(figsize=(10, 6))\n",
    "plt.scatter(summary_table[\"Num_Companies\"], summary_table[\"Avg_Funding_Rounds\"], alpha=0.7)\n",
    "\n",
    "plt.xscale('log')  # Log scale for the X-axis\n",
    "plt.yscale('linear')  # Keep Y-axis linear\n",
    "\n",
    "# Remove the right and top spines\n",
    "ax = plt.gca()  # Get current axes\n",
    "ax.spines['right'].set_visible(False)\n",
    "ax.spines['top'].set_visible(False)\n",
    "\n",
    "# Labels and title\n",
    "plt.xlabel(\"Number of Companies (Log Scale)\")\n",
    "plt.ylabel(\"Average Funding Rounds\")\n",
    "plt.title(\"Average Funding Rounds vs. Number of Companies per State)\")\n",
    "\n",
    "plt.show()"
   ]
  },
  {
   "cell_type": "markdown",
   "id": "e23b98f1-05e3-4c64-a4d0-46a3920b34af",
   "metadata": {},
   "source": [
    "The scatter plot above tells the relationship between the number of startups per state and the average funding rounds per state. The trend suggests that states with more startups see a higher and or consistent funding rounds on average. The plot has been ajusted in scale to remove the one outlier identified. This relationship may be as a result of concentration of investors around major states. While it was suggested to use a companies per 100k. I did struggle to find the population for the period of the dataset I will endeavour to improve on it before the final submission. "
   ]
  },
  {
   "cell_type": "code",
   "execution_count": 30,
   "id": "913c6b62-febc-4989-accd-6edc7477beb4",
   "metadata": {},
   "outputs": [
    {
     "data": {
      "image/png": "[encoded data removed]",
      "text/plain": [
       "<Figure size 1000x600 with 1 Axes>"
      ]
     },
     "metadata": {},
     "output_type": "display_data"
    }
   ],
   "source": [
    "# Define bins for distance ranges\n",
    "bins = [0, 10, 20, 50, 100, 200, 500, np.inf]  # Distance ranges in km\n",
    "tick_labels = [\"0-10\", \"10-20\", \"20-50\", \"50-100\", \"100-200\", \"200-500\", \"500+\"]\n",
    "\n",
    "# Assign each startup to a distance bin\n",
    "main['distance_bin'] = pd.cut(main['distance_to_nearest_university'], bins=bins, labels=tick_labels, right=False)\n",
    "\n",
    "summary_table_2 = main.groupby(\"city\").agg(\n",
    "    Total_Amt_Raised=('raised_amount_usd', 'sum'),\n",
    "    Avg_Amt_Raised=('raised_amount_usd', 'mean'),\n",
    "    Num_Companies=('funded_object_id', 'count') )\n",
    "\n",
    "summary_table_2 = summary_table_2.reset_index()\n",
    "\n",
    "# Merge the startup data with the summary table\n",
    "merged = main.merge(summary_table_2, on=\"city\", how=\"left\")\n",
    "\n",
    "# Ensure sufficient sample size in each bin before plotting\n",
    "bin_counts = merged['distance_bin'].value_counts()\n",
    "valid_bins = bin_counts[bin_counts >= 5].index  # Filter bins with at least 5 startups\n",
    "filtered_data = merged[merged['distance_bin'].isin(valid_bins)]\n",
    "\n",
    "# Plot the box plot\n",
    "plt.figure(figsize=(10, 6))\n",
    "plt.boxplot(\n",
    "    [filtered_data.loc[filtered_data['distance_bin'] == bin, 'Avg_Amt_Raised'] for bin in valid_bins],\n",
    "    tick_labels=valid_bins, patch_artist=True, boxprops=dict(facecolor='lightblue'))\n",
    "\n",
    "# Formatting the plot\n",
    "plt.xlabel(\"Distance to Nearest University (km)\")\n",
    "plt.ylabel(\"Investment Amount Raised (USD)\")\n",
    "plt.title(\"Investment Raised vs. Distance to Nearest University\")\n",
    "plt.xticks(rotation=45)\n",
    "plt.grid(axis=\"y\", linestyle=\"--\", alpha=0.7)\n",
    "\n",
    "# Remove the right and top spines\n",
    "ax = plt.gca()\n",
    "ax.spines['right'].set_visible(False)\n",
    "ax.spines['top'].set_visible(False)\n",
    "\n",
    "plt.show()"
   ]
  },
  {
   "cell_type": "markdown",
   "id": "777fd76b-c725-4be8-8138-f03c89ee222d",
   "metadata": {},
   "source": [
    "Using this box plot we see the spread and outliers in the amount of investment raised per distance from universities. "
   ]
  },
  {
   "cell_type": "code",
   "execution_count": 32,
   "id": "e6e96b43-81a4-4edd-83b8-5608f91305f9",
   "metadata": {},
   "outputs": [
    {
     "ename": "NameError",
     "evalue": "name 'reg_main' is not defined",
     "output_type": "error",
     "traceback": [
      "\u001b[0;31m---------------------------------------------------------------------------\u001b[0m",
      "\u001b[0;31mNameError\u001b[0m                                 Traceback (most recent call last)",
      "Cell \u001b[0;32mIn[32], line 8\u001b[0m\n\u001b[1;32m      5\u001b[0m main[\u001b[38;5;124m'\u001b[39m\u001b[38;5;124mdistance_bin\u001b[39m\u001b[38;5;124m'\u001b[39m] \u001b[38;5;241m=\u001b[39m pd\u001b[38;5;241m.\u001b[39mcut(main[\u001b[38;5;124m'\u001b[39m\u001b[38;5;124mdistance_to_nearest_university\u001b[39m\u001b[38;5;124m'\u001b[39m], bins\u001b[38;5;241m=\u001b[39mbins, labels\u001b[38;5;241m=\u001b[39mlabels, right\u001b[38;5;241m=\u001b[39m\u001b[38;5;28;01mFalse\u001b[39;00m)\n\u001b[1;32m      7\u001b[0m \u001b[38;5;66;03m# Merge startup data with reg_main\u001b[39;00m\n\u001b[0;32m----> 8\u001b[0m merged \u001b[38;5;241m=\u001b[39m main\u001b[38;5;241m.\u001b[39mmerge(reg_main, on\u001b[38;5;241m=\u001b[39m\u001b[38;5;124m\"\u001b[39m\u001b[38;5;124mstate_code\u001b[39m\u001b[38;5;124m\"\u001b[39m, how\u001b[38;5;241m=\u001b[39m\u001b[38;5;124m\"\u001b[39m\u001b[38;5;124mleft\u001b[39m\u001b[38;5;124m\"\u001b[39m)\n\u001b[1;32m     10\u001b[0m \u001b[38;5;66;03m# Group by distance bin and compute the average funding rounds\u001b[39;00m\n\u001b[1;32m     11\u001b[0m IPOS_summary \u001b[38;5;241m=\u001b[39m merged\u001b[38;5;241m.\u001b[39mgroupby(\u001b[38;5;124m\"\u001b[39m\u001b[38;5;124mdistance_bin\u001b[39m\u001b[38;5;124m\"\u001b[39m)[\u001b[38;5;124m\"\u001b[39m\u001b[38;5;124mIPO_Success\u001b[39m\u001b[38;5;124m\"\u001b[39m]\u001b[38;5;241m.\u001b[39mmean()\u001b[38;5;241m.\u001b[39mreset_index()\n",
      "\u001b[0;31mNameError\u001b[0m: name 'reg_main' is not defined"
     ]
    }
   ],
   "source": [
    "# bins for proximity ranges\n",
    "bins = [0, 10, 20, 50, 100, 200, 500, np.inf]  # Distance ranges in km\n",
    "labels = [\"0-10\", \"10-20\", \"20-50\", \"50-100\", \"100-200\", \"200-500\", \"500+\"]\n",
    "# Categorize startups into distance bins\n",
    "main['distance_bin'] = pd.cut(main['distance_to_nearest_university'], bins=bins, labels=labels, right=False)\n",
    "\n",
    "# Merge startup data with reg_main\n",
    "merged = main.merge(reg_main, on=\"state_code\", how=\"left\")\n",
    "\n",
    "# Group by distance bin and compute the average funding rounds\n",
    "IPOS_summary = merged.groupby(\"distance_bin\")[\"IPO_Success\"].mean().reset_index()\n",
    "\n",
    "# Plot the bar chart\n",
    "plt.figure(figsize=(10, 6))\n",
    "plt.bar(IPOS_summary[\"distance_bin\"], IPOS_summary[\"IPO_Success\"], color='darkorange')\n",
    "\n",
    "# Remove the right and top spines\n",
    "ax = plt.gca()  # Get current axes\n",
    "ax.spines['right'].set_visible(False)\n",
    "ax.spines['top'].set_visible(False)\n",
    "\n",
    "# Formatting the plot\n",
    "plt.xlabel(\"Distance to Nearest University (km)\")\n",
    "plt.ylabel(\"IPOS Success\")\n",
    "plt.title(\"IPOS Success vs. Proximity to Top Universities\")\n",
    "plt.xticks(rotation=45)\n",
    "plt.grid(axis=\"y\", linestyle=\"--\", alpha=0.7)"
   ]
  },
  {
   "cell_type": "markdown",
   "id": "67fb064d-3b7b-400a-b4c3-b890d1c76dfe",
   "metadata": {},
   "source": [
    "The bar chart above would help us visualise what happens to the initial public offering (IPO) as distance increases, it supports the idea that universities boost startup ecosystems. However this graph shows that the IPO varies only slightly, we can determine that distance may not have much of an effect on IPO of startups."
   ]
  },
  {
   "cell_type": "code",
   "execution_count": null,
   "id": "6e9d4a32-0c96-4784-9b29-452cb1d05ad7",
   "metadata": {},
   "outputs": [],
   "source": [
    "# Plot the line chart\n",
    "plt.figure(figsize=(10, 6))\n",
    "\n",
    "# Plot Avg Funding Rounds\n",
    "plt.plot(main['distance_to_nearest_university'], main[\"participants\"], \n",
    "          linestyle=\"-\", color=\"royalblue\")\n",
    "\n",
    "# Formatting the plot\n",
    "plt.xlabel(\"Distance to Nearest University (km)\")\n",
    "plt.ylabel(\"Value\")\n",
    "plt.title(\"Average Funding Rounds participants vs. Proximity to Universities\")\n",
    "plt.legend()\n",
    "plt.xticks(rotation=45)\n",
    "plt.grid(axis=\"y\", linestyle=\"--\", alpha=0.7)\n",
    "\n",
    "# Remove the right and top spines\n",
    "ax = plt.gca()  # Get current axes\n",
    "ax.spines['right'].set_visible(False)\n",
    "ax.spines['top'].set_visible(False)\n",
    "\n",
    "plt.show()"
   ]
  },
  {
   "cell_type": "code",
   "execution_count": 43,
   "id": "225994a4-43b4-4ebf-b80e-84ad29cf4840",
   "metadata": {},
   "outputs": [
    {
     "data": {
      "image/png": "[encoded data removed]",
      "text/plain": [
       "<Figure size 1000x600 with 1 Axes>"
      ]
     },
     "metadata": {},
     "output_type": "display_data"
    }
   ],
   "source": [
    "import matplotlib.pyplot as plt\n",
    "\n",
    "# Plot the bar chart\n",
    "plt.figure(figsize=(10, 6))\n",
    "\n",
    "# Plot participants as a bar chart against distance\n",
    "plt.bar(main['distance_to_nearest_university'], main[\"participants\"], \n",
    "        color=\"royalblue\", width=0.8)\n",
    "\n",
    "# Formatting the plot\n",
    "plt.xlabel(\"Distance to Nearest University (km)\")\n",
    "plt.ylabel(\"Participants\")\n",
    "plt.title(\"Average Funding Rounds Participants vs. Proximity to Universities\")\n",
    "plt.xticks(rotation=45)\n",
    "plt.grid(axis=\"y\", linestyle=\"--\", alpha=0.4)\n",
    "\n",
    "# Remove the right and top spines\n",
    "ax = plt.gca()\n",
    "ax.spines['right'].set_visible(False)\n",
    "ax.spines['top'].set_visible(False)\n",
    "\n",
    "plt.show()"
   ]
  },
  {
   "cell_type": "markdown",
   "id": "390a7ef9-0b54-4ecd-9984-938faac75fe6",
   "metadata": {},
   "source": [
    "This graph maps the number of participants in a funding round to the distance away from universities. We see that there are more participants the further we are from universities. "
   ]
  },
  {
   "cell_type": "markdown",
   "id": "89f88961-9638-483f-b7f5-86c1a0d67fdc",
   "metadata": {},
   "source": [
    "# Project Two"
   ]
  },
  {
   "cell_type": "markdown",
   "id": "7966c339-65e8-43b4-8c07-e97697e3ea67",
   "metadata": {},
   "source": [
    "## The Message"
   ]
  },
  {
   "cell_type": "markdown",
   "id": "54807c6a-7b7a-4f7c-82bf-432f87199a78",
   "metadata": {},
   "source": [
    "Startups located closer to universities tend to have lower total funding(USD), suggesting that close proximity to academic hubs may be negatively correlated with investment success."
   ]
  },
  {
   "cell_type": "code",
   "execution_count": 45,
   "id": "8bf78803-f0ec-4192-9696-3a8d247a9003",
   "metadata": {},
   "outputs": [
    {
     "data": {
      "image/png": "[encoded data removed]",
      "text/plain": [
       "<Figure size 1000x600 with 1 Axes>"
      ]
     },
     "metadata": {},
     "output_type": "display_data"
    }
   ],
   "source": [
    "# Create a \"Near\" vs. \"Far\" classification based on median distance\n",
    "median_distance = main['distance_to_nearest_university'].median()\n",
    "main[\"Proximity_Group\"] = main['distance_to_nearest_university'].apply(lambda x: \"Near\" if x <= median_distance else \"Far\")\n",
    "\n",
    "# Scatter plot with regression trend\n",
    "plt.figure(figsize=(10, 6))\n",
    "sns.scatterplot(data=main, x=\"distance_to_nearest_university\", y=\"funding_total_usd\", hue=\"Proximity_Group\", alpha=0.6)\n",
    "sns.regplot(data=main, x=\"distance_to_nearest_university\", y=\"funding_total_usd\", scatter=False, color=\"black\")\n",
    "\n",
    "# Remove the right and top spines\n",
    "ax = plt.gca()  # Get current axes\n",
    "ax.spines['right'].set_visible(False)\n",
    "ax.spines['top'].set_visible(False)\n",
    "\n",
    "# Labels and title\n",
    "plt.xlabel(\"Distance to Nearest Top-Tier University (km)\")\n",
    "plt.ylabel(\"Total Funding Raised (USD)\")\n",
    "plt.title(\"The Impact of Proximity to Universities on Startup Funding\")\n",
    "plt.legend(title=\"Proximity to University\")\n",
    "\n",
    "# Show plot\n",
    "plt.show()"
   ]
  },
  {
   "cell_type": "markdown",
   "id": "5308e362-305a-4aae-912a-602cdaa4e2d0",
   "metadata": {},
   "source": [
    "As we can see with the line of best fit there is a negative correlation between proximity to universities and total funds raised by the startup. "
   ]
  },
  {
   "cell_type": "markdown",
   "id": "c24db4c4-fe40-40a1-af2a-dfd2c3a74774",
   "metadata": {},
   "source": [
    "## Maps and Interpretations"
   ]
  },
  {
   "cell_type": "markdown",
   "id": "f670ab3c-e4ae-4642-b5ed-d2f7fbf26342",
   "metadata": {},
   "source": [
    "### Map 1"
   ]
  },
  {
   "cell_type": "code",
   "execution_count": null,
   "id": "645f34dc-545b-48a5-837f-1e496253c40f",
   "metadata": {},
   "outputs": [],
   "source": [
    "# Load the U.S. states shapefile\n",
    "us_states = gpd.read_file(\"https://eric.clst.org/assets/wiki/uploads/Stuff/gz_2010_us_040_00_500k.json\")\n",
    "\n",
    "# Convert state abbreviations to uppercase for merging\n",
    "main[\"state_code\"] = main[\"state_code\"].str.upper()\n",
    "\n",
    "# Aggregate total funding per state\n",
    "state_funding = main.groupby(\"state_code\")[\"funding_total_usd\"].sum().reset_index()\n",
    "\n",
    "# Rename column for merging\n",
    "state_funding = state_funding.rename(columns={\"state_code\": \"NAME\"})\n",
    "state_funding[\"NAME\"] = state_funding[\"NAME\"].map(lambda x: us.states.lookup(x).name if us.states.lookup(x) else x)\n",
    "\n",
    "# Merge with the U.S. states GeoDataFrame\n",
    "map_data = us_states.merge(state_funding, on=\"NAME\", how=\"left\")\n",
    "\n",
    "# Remove non-mainland states\n",
    "excluded_states = [\"Alaska\", \"Hawaii\", \"Puerto Rico\", \"Guam\", \"American Samoa\", \"Northern Mariana Islands\", \"U.S. Virgin Islands\"]\n",
    "map_data = map_data[~map_data[\"NAME\"].isin(excluded_states)]\n",
    "\n",
    "# Create a new column to track NaN/zero values\n",
    "map_data[\"color_category\"] = map_data[\"funding_total_usd\"].apply(lambda x: \"grey\" if pd.isna(x) or x == 0 else \"purple\")\n",
    "\n",
    "# Set up figure\n",
    "fig, ax = plt.subplots(figsize=(12, 8))\n",
    "\n",
    "# Define custom colormap (grey for missing values, Purples for actual funding)\n",
    "colors = [\"grey\"] + plt.cm.Purples(np.linspace(0.3, 1, 10)).tolist()\n",
    "custom_cmap = ListedColormap(colors)\n",
    "\n",
    "# Plot states with funding data\n",
    "map_data.dropna(subset=[\"funding_total_usd\"]).plot(\n",
    "    column=\"funding_total_usd\",\n",
    "    cmap=custom_cmap,\n",
    "    linewidth=0.8,\n",
    "    edgecolor=\"black\",\n",
    "    legend=True,\n",
    "    vmin=0, \n",
    "    vmax=map_data[\"funding_total_usd\"].max(),\n",
    "    ax=ax\n",
    ")\n",
    "\n",
    "# Plot NaN/zero values in grey\n",
    "map_data[map_data[\"color_category\"] == \"grey\"].plot(color=\"grey\", edgecolor=\"black\", ax=ax)\n",
    "\n",
    "# Remove axes ticks and labels\n",
    "ax.set_xticks([])\n",
    "ax.set_yticks([])\n",
    "ax.set_title('Total Funding (USD) by State (Contiguous U.S.)', fontsize=14)\n",
    "\n",
    "# Adjust layout to fit legend better\n",
    "plt.subplots_adjust(left=0.05, right=0.85, top=0.9, bottom=0.1)\n",
    "\n",
    "# Show the plot\n",
    "plt.show()"
   ]
  },
  {
   "cell_type": "markdown",
   "id": "a1aa1ee5-7eed-4f75-8fcb-54e0b88a0139",
   "metadata": {},
   "source": [
    "This map shows the total funding values that are present in the data set and from this we see that states like California are recipients of higher total funding.  "
   ]
  },
  {
   "cell_type": "markdown",
   "id": "fd921ad7-8744-4577-a607-fedacd81c839",
   "metadata": {},
   "source": [
    "### Map 2"
   ]
  },
  {
   "cell_type": "code",
   "execution_count": null,
   "id": "1fb087d3-5c79-49f6-96d1-6eaeeaf8df51",
   "metadata": {},
   "outputs": [],
   "source": [
    "# Load the U.S. states shapefile\n",
    "us_states = gpd.read_file(\"https://eric.clst.org/assets/wiki/uploads/Stuff/gz_2010_us_040_00_500k.json\")\n",
    "\n",
    "# Convert state abbreviations to uppercase for merging\n",
    "main[\"state_code\"] = main[\"state_code\"].str.upper()\n",
    "\n",
    "# Calculate average funding rounds per state\n",
    "state_funding = main.groupby(\"state_code\")[\"funding_rounds\"].mean().reset_index()\n",
    "\n",
    "# Rename columns for merging\n",
    "state_funding = state_funding.rename(columns={\"state_code\": \"NAME\"})\n",
    "state_funding[\"NAME\"] = state_funding[\"NAME\"].map(lambda x: us.states.lookup(x).name if us.states.lookup(x) else x)\n",
    "\n",
    "# Merge with the U.S. states GeoDataFrame\n",
    "map_data = us_states.merge(state_funding, on=\"NAME\", how=\"left\")\n",
    "\n",
    "# Remove non-mainland states\n",
    "excluded_states = [\"Alaska\", \"Hawaii\", \"Puerto Rico\", \"Guam\", \"American Samoa\", \"Northern Mariana Islands\", \"U.S. Virgin Islands\"]\n",
    "map_data = map_data[~map_data[\"NAME\"].isin(excluded_states)]\n",
    "\n",
    "# Create a new column to track NaN/zero values\n",
    "map_data[\"color_category\"] = map_data[\"funding_rounds\"].apply(lambda x: \"green\" if pd.isna(x) or x == 0 else \"blue\")\n",
    "\n",
    "# Set up figure\n",
    "fig, ax = plt.subplots(figsize=(12, 8))\n",
    "\n",
    "# Plot valid funding data using 'Blues' colormap\n",
    "map_data.dropna(subset=[\"funding_rounds\"]).plot(column=\"funding_rounds\", cmap=\"Blues\", \n",
    "                                                linewidth=0.8,  edgecolor=\"black\", \n",
    "                                                legend=True, vmin=0, vmax=2.5,\n",
    "                                                ax=ax)\n",
    "\n",
    "# Plot NaN/zero values in red\n",
    "map_data[map_data[\"color_category\"] == \"green\"].plot(color=\"green\", edgecolor=\"black\", ax=ax)\n",
    "\n",
    "# Remove axes ticks and labels\n",
    "ax.set_xticks([])\n",
    "ax.set_yticks([])\n",
    "ax.set_title('Average Funding Rounds Per State (Contiguous U.S.)', fontsize=14)\n",
    "\n",
    "# Adjust layout to fit legend better\n",
    "plt.subplots_adjust(left=0.05, right=0.85, top=0.9, bottom=0.1)\n",
    "\n",
    "# Show the plot\n",
    "plt.show()"
   ]
  },
  {
   "cell_type": "markdown",
   "id": "15c34606-b8ee-4e53-a3f4-94c08fbd9aaa",
   "metadata": {},
   "source": [
    "The results of this map suggest that there is a higher average funding round towards the west of the United States. Industry hotspots like California have higher average funding rounds which is consistent with expectations. States in green are the states with zero total funding as per the dataset."
   ]
  },
  {
   "cell_type": "markdown",
   "id": "4dfec30f-5fc4-45db-90da-2ba5844d7b3f",
   "metadata": {},
   "source": [
    "### Map 3"
   ]
  },
  {
   "cell_type": "code",
   "execution_count": 37,
   "id": "5e50d566-fb60-44b8-b519-c96f09ffbe01",
   "metadata": {},
   "outputs": [
    {
     "ename": "NameError",
     "evalue": "name 'reg_main' is not defined",
     "output_type": "error",
     "traceback": [
      "\u001b[0;31m---------------------------------------------------------------------------\u001b[0m",
      "\u001b[0;31mNameError\u001b[0m                                 Traceback (most recent call last)",
      "Cell \u001b[0;32mIn[37], line 9\u001b[0m\n\u001b[1;32m      6\u001b[0m county_ca \u001b[38;5;241m=\u001b[39m county_ca\u001b[38;5;241m.\u001b[39mquery(\u001b[38;5;124m\"\u001b[39m\u001b[38;5;124mSTATEFP == \u001b[39m\u001b[38;5;124m'\u001b[39m\u001b[38;5;124m06\u001b[39m\u001b[38;5;124m'\u001b[39m\u001b[38;5;124m\"\u001b[39m) \n\u001b[1;32m      8\u001b[0m county_ca[\u001b[38;5;124m\"\u001b[39m\u001b[38;5;124mNAME\u001b[39m\u001b[38;5;124m\"\u001b[39m] \u001b[38;5;241m=\u001b[39m county_ca[\u001b[38;5;124m\"\u001b[39m\u001b[38;5;124mNAME\u001b[39m\u001b[38;5;124m\"\u001b[39m]\u001b[38;5;241m.\u001b[39mstr\u001b[38;5;241m.\u001b[39mtitle()\u001b[38;5;241m.\u001b[39mstr\u001b[38;5;241m.\u001b[39mstrip()\n\u001b[0;32m----> 9\u001b[0m reg_main[\u001b[38;5;124m\"\u001b[39m\u001b[38;5;124mregion\u001b[39m\u001b[38;5;124m\"\u001b[39m] \u001b[38;5;241m=\u001b[39m main[\u001b[38;5;124m\"\u001b[39m\u001b[38;5;124mregion\u001b[39m\u001b[38;5;124m\"\u001b[39m]\u001b[38;5;241m.\u001b[39mstr\u001b[38;5;241m.\u001b[39mtitle()\u001b[38;5;241m.\u001b[39mstr\u001b[38;5;241m.\u001b[39mstrip()\n\u001b[1;32m     11\u001b[0m ca_merge \u001b[38;5;241m=\u001b[39m county_ca\u001b[38;5;241m.\u001b[39mmerge(reg_main, left_on\u001b[38;5;241m=\u001b[39m\u001b[38;5;124m\"\u001b[39m\u001b[38;5;124mNAME\u001b[39m\u001b[38;5;124m\"\u001b[39m, right_on\u001b[38;5;241m=\u001b[39m\u001b[38;5;124m\"\u001b[39m\u001b[38;5;124mregion\u001b[39m\u001b[38;5;124m\"\u001b[39m, how\u001b[38;5;241m=\u001b[39m\u001b[38;5;124m\"\u001b[39m\u001b[38;5;124minner\u001b[39m\u001b[38;5;124m\"\u001b[39m)\n\u001b[1;32m     13\u001b[0m fig, gax \u001b[38;5;241m=\u001b[39m plt\u001b[38;5;241m.\u001b[39msubplots(figsize\u001b[38;5;241m=\u001b[39m(\u001b[38;5;241m10\u001b[39m, \u001b[38;5;241m10\u001b[39m))\n",
      "\u001b[0;31mNameError\u001b[0m: name 'reg_main' is not defined"
     ]
    }
   ],
   "source": [
    "# Load the U.S. states shapefile \n",
    "state_ca = gpd.read_file(\"https://www2.census.gov/geo/tiger/TIGER2019/STATE/tl_2019_us_state.zip\")\n",
    "\n",
    "# Load the U.S. county shapefile \n",
    "county_ca = gpd.read_file(\"https://www2.census.gov/geo/tiger/TIGER2019/COUNTY/tl_2019_us_county.zip\")\n",
    "county_ca = county_ca.query(\"STATEFP == '06'\") \n",
    "\n",
    "county_ca[\"NAME\"] = county_ca[\"NAME\"].str.title().str.strip()\n",
    "reg_main[\"region\"] = main[\"region\"].str.title().str.strip()\n",
    "\n",
    "ca_merge = county_ca.merge(reg_main, left_on=\"NAME\", right_on=\"region\", how=\"inner\")\n",
    "\n",
    "fig, gax = plt.subplots(figsize=(10, 10))\n",
    "state_ca.query(\"NAME == 'California'\").plot(ax=gax, edgecolor=\"black\", color=\"white\")\n",
    "county_ca.plot(ax=gax, edgecolor=\"black\", color=\"white\")\n",
    "\n",
    "# Plot the counties and the ipos success\n",
    "ca_merge.plot(\n",
    "    ax=gax, edgecolor='black', column='IPO_Success', legend=True, cmap='RdBu_r',\n",
    "    vmin=0.2, vmax=0.8)\n",
    "\n",
    "# Add text to let people know what we are plotting\n",
    "gax.annotate('IPOS Success in California',xy=(0.54, 0.05),  xycoords='figure fraction')\n",
    "\n",
    "# I don't want the axis with long and lat\n",
    "plt.axis('off')\n",
    "\n",
    "plt.show()"
   ]
  },
  {
   "cell_type": "markdown",
   "id": "aab3fccf-683b-42b3-94af-a542c34c3637",
   "metadata": {},
   "source": [
    "In a closer look at California we also see that certain counties are associated with higher initial public offering success. California was the state of choice because it had the most obeservations per state and as the first two maps had shown it has a great record for high funding rounds and investment amounts raised. "
   ]
  },
  {
   "cell_type": "markdown",
   "id": "17818f0b-f857-4387-8e34-5ad616508e68",
   "metadata": {},
   "source": [
    "## Regressions"
   ]
  },
  {
   "cell_type": "code",
   "execution_count": 39,
   "id": "c3f84c8e-e266-4923-8d17-635e2dd362dc",
   "metadata": {},
   "outputs": [],
   "source": [
    "reg_main = pd.DataFrame()\n",
    "reg_main['funded_object_id'] = main['funded_object_id']\n",
    "reg_main['state_code'] = main['state_code']\n",
    "# Convert category_code, funding round into categorical type\n",
    "reg_main['Industry'] = main['category_code'].astype('category')\n",
    "reg_main['Funding_Round_Type'] = main['funding_round_type'].astype('category')\n",
    "\n",
    "# Convert date columns to datetime\n",
    "date_cols = ['funded_at', 'founded_at', 'first_investment_at', 'first_funding_at', 'public_at']\n",
    "for col in date_cols:\n",
    "    main[col] = pd.to_datetime(main[col], errors='coerce')  # Convert strings to datetime, force invalid ones to NaT\n",
    "\n",
    "# Calculations\n",
    "reg_main['Startup_Age'] = (main['funded_at'] - main['founded_at']).dt.days / 365.25  # Convert days to years\n",
    "reg_main['Time_To_First_Investment'] = (main['first_investment_at'] - main['founded_at']).dt.days / 365.25\n",
    "reg_main['Time_To_First_Funding'] = (main['first_funding_at'] - main['founded_at']).dt.days / 365.25\n",
    "\n",
    "# Total + count funding + Average investor participation raised per startup\n",
    "reg_main['Total_Funding_USD'] = main.groupby('category_code')['raised_amount_usd'].transform('sum')\n",
    "reg_main['Total_Funding_Rounds'] = main.groupby('category_code')['funded_at'].transform('count')\n",
    "reg_main['Avg_Participants_Per_Round'] = main.groupby('category_code')['participants'].transform('mean')\n",
    "\n",
    "# Binary indicator for IPO success\n",
    "reg_main['IPO_Success'] = np.where(main['public_at'].notnull(), 1, 0)\n",
    "\n",
    "# Merge distance data\n",
    "reg_main['Distance'] = main['distance_to_nearest_university']\n",
    "\n",
    "# Convert all relevant variables to numeric\n",
    "cols = ['Startup_Age', 'Total_Funding_USD', 'Total_Funding_Rounds', 'IPO_Success', 'Avg_Participants_Per_Round', 'Distance']\n",
    "reg_main[cols] = reg_main[cols].apply(pd.to_numeric, errors='coerce')\n",
    "\n",
    "# Drop missing values\n",
    "reg_main = reg_main.dropna(subset=cols)\n",
    "\n",
    "# Add dummy variables\n",
    "#industry_dummies = pd.get_dummies(reg_main['Industry'], prefix='Industry', drop_first=False)\n",
    "funding_dummies = pd.get_dummies(reg_main['Funding_Round_Type'], prefix='Funding', drop_first=False)\n",
    "#industry_dummies = industry_dummies.astype(int) #convert from T/F to 1/0\n",
    "funding_dummies = funding_dummies.astype(int)\n",
    "\n",
    "reg_main = pd.concat([reg_main, funding_dummies], axis=1)\n",
    "\n",
    "# Define dependent variable (Y): Total_Funding_USD (proxy for startup success)\n",
    "Y = reg_main['Total_Funding_USD']\n",
    "\n",
    "# Define independent variables (X)\n",
    "X = reg_main[['Distance', 'Startup_Age', 'Total_Funding_Rounds', 'IPO_Success', 'Avg_Participants_Per_Round',\n",
    "              'Funding_series-a', 'Funding_series-b', 'Funding_series-c+']]\n",
    "\n",
    "X = sm.add_constant(X)  # Add intercept"
   ]
  },
  {
   "cell_type": "markdown",
   "id": "e9a1de23-508f-4ca8-b609-9c7c040a8c69",
   "metadata": {},
   "source": [
    "### Table 1"
   ]
  },
  {
   "cell_type": "code",
   "execution_count": null,
   "id": "c38d0084-af2d-47ab-99fe-7154056b468c",
   "metadata": {},
   "outputs": [],
   "source": [
    "# Model 0: benchmark\n",
    "X0 = reg_main[['Distance']]\n",
    "X0 = sm.add_constant(X0)\n",
    "# Model 1: \n",
    "X1 = reg_main[['Distance', 'Startup_Age']]\n",
    "X1 = sm.add_constant(X1)\n",
    "# Model 2: \n",
    "X2 = reg_main[['Distance', 'Startup_Age','Avg_Participants_Per_Round']]\n",
    "X2 = sm.add_constant(X2)\n",
    "# Model 3: \n",
    "X3 = reg_main[['Distance', 'Startup_Age','Avg_Participants_Per_Round', 'IPO_Success']]\n",
    "X3 = sm.add_constant(X3)\n",
    "\n",
    "y = reg_main['Total_Funding_USD']\n",
    "\n",
    "model0 = sm.OLS(y, X0).fit()\n",
    "model1 = sm.OLS(y, X1).fit()\n",
    "model2 = sm.OLS(y, X2).fit()\n",
    "model3 = sm.OLS(y, X3).fit()\n",
    "\n",
    "# Display the Regression Results using Stargazer\n",
    "stargazer = Stargazer([model0 ,model1, model2, model3])\n",
    "\n",
    "# Set the same order of variables for all regressions\n",
    "stargazer.covariate_order(['const', 'Distance', 'Startup_Age', 'Avg_Participants_Per_Round', 'IPO_Success'])\n",
    "stargazer.title(\"Effect of Distance and Other Factors on Total Funding\")\n",
    "stargazer.custom_columns([\"Model0\",\"Model1\", \"Model2\", \"Model3\"], [1, 1, 1, 1])\n",
    "\n",
    "# Output the HTML representation of the regression table\n",
    "html_output = stargazer.render_html()\n",
    "display(HTML(html_output))"
   ]
  },
  {
   "cell_type": "markdown",
   "id": "39f9d614-e360-440e-b96e-309d6de47858",
   "metadata": {},
   "source": [
    "### Table 2"
   ]
  },
  {
   "cell_type": "code",
   "execution_count": null,
   "id": "65885545-25e3-4daf-b2ac-57ccef9a5a72",
   "metadata": {},
   "outputs": [],
   "source": [
    "# Model 4: \n",
    "X4 = reg_main[['Distance', 'Startup_Age','Avg_Participants_Per_Round', 'IPO_Success', 'Total_Funding_Rounds']]\n",
    "X4 = sm.add_constant(X4)\n",
    "# Model 5: \n",
    "X5 = reg_main[['Distance', 'Startup_Age','Avg_Participants_Per_Round', 'IPO_Success', 'Total_Funding_Rounds', 'Funding_series-a']]\n",
    "X5 = sm.add_constant(X5)\n",
    "# Model 6: \n",
    "X6 = reg_main[['Distance', 'Startup_Age','Avg_Participants_Per_Round', 'IPO_Success', 'Total_Funding_Rounds', 'Funding_series-a', \n",
    "               'Funding_series-b']]\n",
    "X6 = sm.add_constant(X6)\n",
    "# Model 7: \n",
    "X7 = reg_main[['Distance', 'Startup_Age','Avg_Participants_Per_Round', 'IPO_Success', 'Total_Funding_Rounds', 'Funding_series-a',\n",
    "               'Funding_series-b','Funding_series-c+']]\n",
    "X7 = sm.add_constant(X7)\n",
    "\n",
    "y = reg_main['Total_Funding_USD']\n",
    "\n",
    "model4 = sm.OLS(y, X4).fit()\n",
    "model5 = sm.OLS(y, X5).fit()\n",
    "model6 = sm.OLS(y, X6).fit()\n",
    "model7 = sm.OLS(y, X7).fit()\n",
    "\n",
    "# Display the Regression Results using Stargazer\n",
    "stargazer = Stargazer([ model4, model5, model6, model7])\n",
    "\n",
    "# Set the same order of variables for all regressions\n",
    "stargazer.covariate_order(['const', 'Distance', 'Startup_Age', 'Avg_Participants_Per_Round', 'IPO_Success', \n",
    "                           'Total_Funding_Rounds', 'Funding_series-a', 'Funding_series-b', 'Funding_series-c+'])\n",
    "stargazer.title(\"Effect of Distance and Other Factors on Total Funding\")\n",
    "stargazer.custom_columns([\"Model4\",\"Model5\", \"Model6\", \"Model7\"], [1, 1, 1, 1])\n",
    "\n",
    "# Output the HTML representation of the regression table\n",
    "html_output = stargazer.render_html()\n",
    "display(HTML(html_output))"
   ]
  },
  {
   "cell_type": "markdown",
   "id": "3784d403-caa0-4d02-be15-4502e00e8854",
   "metadata": {},
   "source": [
    "From this regression we see that proximity is indeed not a major contributor to investment success as determined by total funding. Total funding rounds is significant as to be expected as more funding rounds easily implies an increase in investment raised. However even within the funding round types we see that not all have the same effects. Funding series a is shown to be insignificant and funding series c is not significant either meaning no strong pattern emerges for later-stage funding. However for funding series b it is significant and negative meaning startups at Series B raise lower total funding compared to others."
   ]
  },
  {
   "cell_type": "markdown",
   "id": "c96729c2-ade7-4deb-be83-51fe53b85fda",
   "metadata": {},
   "source": [
    "Therefore we have the following regression model"
   ]
  },
  {
   "cell_type": "markdown",
   "id": "59c2f63f-893c-45eb-b95c-462828053b42",
   "metadata": {},
   "source": [
    "$$\n",
    "\\begin{align*}\n",
    "\\text{Total\\_Funding}_i &= \\beta_0 + \\beta_1 \\text{Distance}_i + \\beta_2 \\text{StartupAge}_i + \\beta_3 \\text{AvgParticipantsPerRound}_i \\\\\n",
    "&\\quad + \\beta_4 \\text{IPO\\_Success}_i + \\beta_5 \\text{FundingRounds}_i + \\beta_6 \\text{FundingSeriesA}_i \\\\\n",
    "&\\quad + \\beta_7 \\text{FundingSeriesB}_i + \\beta_8 \\text{FundingSeriesC+}_i + \\epsilon_i\n",
    "\\end{align*}\n",
    "$$\n"
   ]
  },
  {
   "cell_type": "markdown",
   "id": "e7989229-5520-4b69-831a-b4cb6adf49d5",
   "metadata": {},
   "source": [
    "## Conclusion"
   ]
  },
  {
   "cell_type": "markdown",
   "id": "1ebe1ffc-e361-4f71-ac92-32d7e8a55054",
   "metadata": {},
   "source": [
    "To conclude, from the literature review and the data presented, we see that the choice to be located next to a university as a startup affords the starup some benefit in terms of research and innovation departments however it does not prove beneficial in achieving investment success. Further investigations are needed to determine effect on investments from other x variables. For example we may need to determine the effect of both proximity and the category of the startup on the investment success. If possible it would be great to investigate the effect of the kind of university the startup is located to has an effect on its investment."
   ]
  },
  {
   "cell_type": "markdown",
   "id": "e85b1fba-988b-4ea7-af44-c38377f19daf",
   "metadata": {},
   "source": [
    "## References\n",
    "Allen, T. J., Gloor, P., Fronzetti Colladon, A., Woerner, S. L., & Raz, O. (2016). The power of reciprocal knowledge sharing relationships for startup success. Journal of Small Business and Enterprise Development, 23(3), 636-651.\n",
    "\n",
    "Anselin, L., Varga, A., & Acs, Z. (1997). Local Geographic Spillovers between University Research and High Technology Innovations. Journal of Urban Economics, 42(3), 422-448.\n",
    "\n",
    "Audretsch, D. B., Lehmann, E. E., & Warning, S. (2005). University spillovers and new firm location. Research Policy, 34(7), 1113–1122.\n",
    "\n",
    "Baptista, R., Mendonça, J. Proximity to knowledge sources and the location of knowledge-based start-ups. Ann Reg Sci 45, 5–29 (2010).\n",
    "\n",
    "Bonaccorsi, A., Colombo, M.G., Guerini, M. et al. University specialization and new firm creation across industries. Small Bus Econ 41, 837–863 (2013).\n",
    "\n",
    "Everett, C. R. (2024). Does more education lead to better startup funding outcomes? Cogent Economics & Finance, 12(1). \n",
    "\n",
    "Fritsch, M., & Aamoucke, R. (2017). Fields of knowledge in higher education institutions, and innovative start‐ups: An empirical investigation. Papers in Regional Science, 96, S1-S28.\n",
    "\n",
    "Hong, S, Serfes, K, Thiele, V. Competition in the venture capital market and the success of startup companies: Theory and evidence. J Econ Manage Strat. 2020; 29: 741–791.\n",
    "\n",
    "Maarouf, A., Feuerriegel, S., & Pröllochs, N. (2025). A fused large language model for predicting startup success. European Journal of Operational Research, 322(1), 198–214.\n",
    "\n",
    "Prohorovs, A., Bistrova, J., & Ten, D. (2019). Startup Success Factors in the Capital Attraction Stage: Founders’ Perspective. Journal of East-West Business, 25(1), 26–51."
   ]
  }
 ],
 "metadata": {
  "kernelspec": {
   "display_name": "Python [conda env:base] *",
   "language": "python",
   "name": "conda-base-py"
  },
  "language_info": {
   "codemirror_mode": {
    "name": "ipython",
    "version": 3
   },
   "file_extension": ".py",
   "mimetype": "text/x-python",
   "name": "python",
   "nbconvert_exporter": "python",
   "pygments_lexer": "ipython3",
   "version": "3.12.7"
  }
 },
 "nbformat": 4,
 "nbformat_minor": 5
}
