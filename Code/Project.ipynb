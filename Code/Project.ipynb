{
 "cells": [
  {
   "attachments": {},
   "cell_type": "markdown",
   "id": "f28ea3bf-7183-419c-908f-e8af86d5306e",
   "metadata": {},
   "source": [
    "# The Effect of Proximity To Top-tier Universities On Startups\n",
    "### by Jessica Dowuona-Owoo"
   ]
  },
  {
   "cell_type": "markdown",
   "id": "72302645-6d90-41d3-946b-a4298234ea8d",
   "metadata": {},
   "source": [
    "##### Introduction"
   ]
  },
  {
   "cell_type": "code",
   "execution_count": 9,
   "id": "45747d81-31f9-4071-a7c1-ecfdf40f5406",
   "metadata": {},
   "outputs": [],
   "source": [
    "import pandas as pd\n",
    "import numpy as np\n",
    "import matplotlib.pyplot as plt"
   ]
  },
  {
   "cell_type": "code",
   "execution_count": null,
   "id": "f7b3444f-9620-4f6c-aa92-3a3cc2fa0c1c",
   "metadata": {},
   "outputs": [],
   "source": [
    "objects = pd.read_csv('/Users/jessyterlisner/Desktop/ECO225Project/Data/objects.csv')\n",
    "investments = pd.read_csv('/Users/jessyterlisner/Desktop/ECO225Project/Data/investments.csv')\n",
    "office = pd.read_csv('/Users/jessyterlisner/Desktop/ECO225Project/Data/offices.csv')\n",
    "milestones = pd.read_csv('/Users/jessyterlisner/Desktop/ECO225Project/Data/milestones.csv')\n",
    "funds = pd.read_csv('/Users/jessyterlisner/Desktop/ECO225Project/Data/funds.csv')\n",
    "degrees = pd.read_csv('/Users/jessyterlisner/Desktop/ECO225Project/Data/degrees.csv')\n",
    "ipos = pd.read_csv('/Users/jessyterlisner/Desktop/ECO225Project/Data/ipos.csv')\n",
    "source = pd.merge(objects, investments, on = [])"
   ]
  }
 ],
 "metadata": {
  "kernelspec": {
   "display_name": "Python [conda env:base] *",
   "language": "python",
   "name": "conda-base-py"
  },
  "language_info": {
   "codemirror_mode": {
    "name": "ipython",
    "version": 3
   },
   "file_extension": ".py",
   "mimetype": "text/x-python",
   "name": "python",
   "nbconvert_exporter": "python",
   "pygments_lexer": "ipython3",
   "version": "3.12.7"
  }
 },
 "nbformat": 4,
 "nbformat_minor": 5
}
