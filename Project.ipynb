{
 "cells": [
  {
   "cell_type": "code",
   "execution_count": null,
   "id": "303d1a64-acfc-4d84-9745-bbca0a7bfc4c",
   "metadata": {},
   "outputs": [],
   "source": [
    "#Introduction"
   ]
  },
  {
   "cell_type": "code",
   "execution_count": 7,
   "id": "45747d81-31f9-4071-a7c1-ecfdf40f5406",
   "metadata": {},
   "outputs": [
    {
     "name": "stderr",
     "output_type": "stream",
     "text": [
      "Matplotlib is building the font cache; this may take a moment.\n"
     ]
    }
   ],
   "source": [
    "import pandas as pd\n",
    "import numpy as np\n",
    "import matplotlib.pyplot as plt"
   ]
  },
  {
   "cell_type": "code",
   "execution_count": null,
   "id": "f7b3444f-9620-4f6c-aa92-3a3cc2fa0c1c",
   "metadata": {},
   "outputs": [],
   "source": [
    "main = pd.read_csv()\n",
    "investments = pd.read_csv()\n"
   ]
  }
 ],
 "metadata": {
  "kernelspec": {
   "display_name": "Python [conda env:base] *",
   "language": "python",
   "name": "conda-base-py"
  },
  "language_info": {
   "codemirror_mode": {
    "name": "ipython",
    "version": 3
   },
   "file_extension": ".py",
   "mimetype": "text/x-python",
   "name": "python",
   "nbconvert_exporter": "python",
   "pygments_lexer": "ipython3",
   "version": "3.12.7"
  }
 },
 "nbformat": 4,
 "nbformat_minor": 5
}
